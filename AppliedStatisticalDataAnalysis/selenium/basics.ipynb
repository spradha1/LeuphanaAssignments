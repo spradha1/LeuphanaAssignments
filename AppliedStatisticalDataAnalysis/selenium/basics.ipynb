{
 "cells": [
  {
   "cell_type": "code",
   "execution_count": 2,
   "metadata": {},
   "outputs": [],
   "source": [
    "# Import libraries\n",
    "\n",
    "from selenium import webdriver\n",
    "from selenium.webdriver import Chrome\n",
    "from selenium.webdriver.common.by import By"
   ]
  },
  {
   "cell_type": "code",
   "execution_count": 3,
   "metadata": {},
   "outputs": [],
   "source": [
    "# Test the chromedriver\n",
    "\n",
    "driver = webdriver.Chrome()\n",
    "driver.get('https://www.leuphana.de/')\n",
    "driver.quit()"
   ]
  },
  {
   "cell_type": "code",
   "execution_count": 4,
   "metadata": {},
   "outputs": [
    {
     "name": "stdout",
     "output_type": "stream",
     "text": [
      "driver.title='Countries of the World: A Simple Example | Scrape This Site | A public sandbox for learning web scraping'\n",
      "driver.current_url='http://www.scrapethissite.com/pages/simple/'\n",
      "driver.window_handles=['CDwindow-605674C9FDC4CD4E521E1368343F5F0A']\n",
      "driver.current_window_handle='CDwindow-605674C9FDC4CD4E521E1368343F5F0A'\n",
      "\n",
      "\n"
     ]
    }
   ],
   "source": [
    "# browser information\n",
    "\n",
    "driver = webdriver.Chrome()\n",
    "driver.get('https://www.scrapethissite.com/pages/simple')\n",
    "\n",
    "print(f'''{driver.title=}\n",
    "{driver.current_url=}\n",
    "{driver.window_handles=}\n",
    "{driver.current_window_handle=}\n",
    "\n",
    "''')\n",
    "\n",
    "driver.quit()"
   ]
  },
  {
   "cell_type": "code",
   "execution_count": 5,
   "metadata": {},
   "outputs": [
    {
     "name": "stdout",
     "output_type": "stream",
     "text": [
      "Andorra: Andorra la Vella\n",
      "Barbados: Bridgetown\n",
      "Belgium: Brussels\n",
      "Burundi: Bujumbura\n",
      "Brunei: Bandar Seri Begawan\n",
      "Brazil: Brasília\n",
      "Belize: Belmopan\n",
      "Djibouti: Djibouti\n",
      "Algeria: Algiers\n",
      "Gibraltar: Gibraltar\n",
      "Guatemala: Guatemala City\n",
      "Guyana: Georgetown\n",
      "Hong Kong: Hong Kong\n",
      "South Korea: Seoul\n",
      "Kuwait: Kuwait City\n",
      "Luxembourg: Luxembourg\n",
      "Monaco: Monaco\n",
      "Marshall Islands: Majuro\n",
      "Macao: Macao\n",
      "Maldives: Malé\n",
      "Mexico: Mexico City\n",
      "Mozambique: Maputo\n",
      "New Caledonia: Noumea\n",
      "Niger: Niamey\n",
      "Panama: Panama City\n",
      "Papua New Guinea: Port Moresby\n",
      "Saint Pierre and Miquelon: Saint-Pierre\n",
      "Sweden: Stockholm\n",
      "Singapore: Singapore\n",
      "San Marino: San Marino\n",
      "São Tomé and Príncipe: São Tomé\n",
      "Tunisia: Tunis\n",
      "Taiwan: Taipei\n",
      "Vatican City: Vatican City\n",
      "Mayotte: Mamoudzou\n"
     ]
    }
   ],
   "source": [
    "# test web-scraping\n",
    "\n",
    "driver = webdriver.Chrome()\n",
    "driver.get('https://www.scrapethissite.com/pages/simple')\n",
    "\n",
    "# print the name & capital of the countries with same initials\n",
    "names = driver.find_elements(By.CLASS_NAME, 'country-name')\n",
    "capitals = driver.find_elements(By.CLASS_NAME, 'country-capital')\n",
    "for n, c in zip(names, capitals):\n",
    "    if n.text[0] == c.text[0]:\n",
    "        print(f'{n.text}: {c.text}')\n",
    "\n",
    "driver.quit()"
   ]
  }
 ],
 "metadata": {
  "kernelspec": {
   "display_name": "Python 3",
   "language": "python",
   "name": "python3"
  },
  "language_info": {
   "codemirror_mode": {
    "name": "ipython",
    "version": 3
   },
   "file_extension": ".py",
   "mimetype": "text/x-python",
   "name": "python",
   "nbconvert_exporter": "python",
   "pygments_lexer": "ipython3",
   "version": "3.10.6"
  },
  "orig_nbformat": 4,
  "vscode": {
   "interpreter": {
    "hash": "916dbcbb3f70747c44a77c7bcd40155683ae19c65e1c03b4aa3499c5328201f1"
   }
  }
 },
 "nbformat": 4,
 "nbformat_minor": 2
}
