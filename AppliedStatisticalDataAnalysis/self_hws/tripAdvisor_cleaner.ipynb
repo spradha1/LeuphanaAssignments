{
 "cells": [
  {
   "cell_type": "code",
   "execution_count": 68,
   "metadata": {},
   "outputs": [],
   "source": [
    "# libraries\n",
    "\n",
    "import pandas as pd"
   ]
  },
  {
   "cell_type": "markdown",
   "metadata": {},
   "source": [
    "### Loading dataset provided by the Hufflepuff team\n",
    "The data is on restaurant recommendations on TripAdvisor"
   ]
  },
  {
   "cell_type": "code",
   "execution_count": 69,
   "metadata": {},
   "outputs": [
    {
     "name": "stdout",
     "output_type": "stream",
     "text": [
      "<class 'pandas.core.frame.DataFrame'>\n",
      "RangeIndex: 3062 entries, 0 to 3061\n",
      "Data columns (total 11 columns):\n",
      " #   Column            Non-Null Count  Dtype \n",
      "---  ------            --------------  ----- \n",
      " 0   Name              3062 non-null   object\n",
      " 1   Street Address    3061 non-null   object\n",
      " 2   Location          3061 non-null   object\n",
      " 3   Type              3033 non-null   object\n",
      " 4   Reviews           2994 non-null   object\n",
      " 5   No of Reviews     3036 non-null   object\n",
      " 6   Comments          2430 non-null   object\n",
      " 7   Contact Number    3061 non-null   object\n",
      " 8   Trip_advisor Url  3049 non-null   object\n",
      " 9   Menu              3061 non-null   object\n",
      " 10  Price_Range       3061 non-null   object\n",
      "dtypes: object(11)\n",
      "memory usage: 263.3+ KB\n"
     ]
    }
   ],
   "source": [
    "df = pd.read_csv('TripAdvisor.csv', delimiter=';')\n",
    "savedf = df.copy()\n",
    "df.info()"
   ]
  },
  {
   "cell_type": "code",
   "execution_count": 70,
   "metadata": {},
   "outputs": [
    {
     "data": {
      "text/html": [
       "<div>\n",
       "<style scoped>\n",
       "    .dataframe tbody tr th:only-of-type {\n",
       "        vertical-align: middle;\n",
       "    }\n",
       "\n",
       "    .dataframe tbody tr th {\n",
       "        vertical-align: top;\n",
       "    }\n",
       "\n",
       "    .dataframe thead th {\n",
       "        text-align: right;\n",
       "    }\n",
       "</style>\n",
       "<table border=\"1\" class=\"dataframe\">\n",
       "  <thead>\n",
       "    <tr style=\"text-align: right;\">\n",
       "      <th></th>\n",
       "      <th>Name</th>\n",
       "      <th>Street Address</th>\n",
       "      <th>Location</th>\n",
       "      <th>Type</th>\n",
       "      <th>Reviews</th>\n",
       "      <th>No of Reviews</th>\n",
       "      <th>Comments</th>\n",
       "      <th>Contact Number</th>\n",
       "      <th>Trip_advisor Url</th>\n",
       "      <th>Menu</th>\n",
       "      <th>Price_Range</th>\n",
       "    </tr>\n",
       "  </thead>\n",
       "  <tbody>\n",
       "    <tr>\n",
       "      <th>count</th>\n",
       "      <td>3062</td>\n",
       "      <td>3061</td>\n",
       "      <td>3061</td>\n",
       "      <td>3033</td>\n",
       "      <td>2994</td>\n",
       "      <td>3036</td>\n",
       "      <td>2430</td>\n",
       "      <td>3061</td>\n",
       "      <td>3049</td>\n",
       "      <td>3061</td>\n",
       "      <td>3061</td>\n",
       "    </tr>\n",
       "    <tr>\n",
       "      <th>unique</th>\n",
       "      <td>2643</td>\n",
       "      <td>2813</td>\n",
       "      <td>2652</td>\n",
       "      <td>681</td>\n",
       "      <td>11</td>\n",
       "      <td>818</td>\n",
       "      <td>2274</td>\n",
       "      <td>2849</td>\n",
       "      <td>2873</td>\n",
       "      <td>705</td>\n",
       "      <td>7</td>\n",
       "    </tr>\n",
       "    <tr>\n",
       "      <th>top</th>\n",
       "      <td>Texas Roadhouse</td>\n",
       "      <td>3333 Bristol St</td>\n",
       "      <td>Costa Mesa, CA 92626-1873</td>\n",
       "      <td>Italian, Vegetarian Friendly, Vegan Options</td>\n",
       "      <td>4.5 of 5 bubbles</td>\n",
       "      <td>58 reviews</td>\n",
       "      <td>A very little restaurant but they provide amaz...</td>\n",
       "      <td>Not Available</td>\n",
       "      <td>https://www.tripadvisor.com//Restaurant_Review...</td>\n",
       "      <td>Check The Website for a Menu</td>\n",
       "      <td>$$ - $$$</td>\n",
       "    </tr>\n",
       "    <tr>\n",
       "      <th>freq</th>\n",
       "      <td>13</td>\n",
       "      <td>8</td>\n",
       "      <td>8</td>\n",
       "      <td>137</td>\n",
       "      <td>1914</td>\n",
       "      <td>18</td>\n",
       "      <td>4</td>\n",
       "      <td>19</td>\n",
       "      <td>4</td>\n",
       "      <td>2252</td>\n",
       "      <td>2383</td>\n",
       "    </tr>\n",
       "  </tbody>\n",
       "</table>\n",
       "</div>"
      ],
      "text/plain": [
       "                   Name   Street Address                   Location  \\\n",
       "count              3062             3061                       3061   \n",
       "unique             2643             2813                       2652   \n",
       "top     Texas Roadhouse  3333 Bristol St  Costa Mesa, CA 92626-1873   \n",
       "freq                 13                8                          8   \n",
       "\n",
       "                                                Type           Reviews  \\\n",
       "count                                           3033              2994   \n",
       "unique                                           681                11   \n",
       "top      Italian, Vegetarian Friendly, Vegan Options  4.5 of 5 bubbles   \n",
       "freq                                             137              1914   \n",
       "\n",
       "       No of Reviews                                           Comments  \\\n",
       "count           3036                                               2430   \n",
       "unique           818                                               2274   \n",
       "top       58 reviews  A very little restaurant but they provide amaz...   \n",
       "freq              18                                                  4   \n",
       "\n",
       "       Contact Number                                   Trip_advisor Url  \\\n",
       "count            3061                                               3049   \n",
       "unique           2849                                               2873   \n",
       "top     Not Available  https://www.tripadvisor.com//Restaurant_Review...   \n",
       "freq               19                                                  4   \n",
       "\n",
       "                                Menu Price_Range  \n",
       "count                           3061        3061  \n",
       "unique                           705           7  \n",
       "top     Check The Website for a Menu    $$ - $$$  \n",
       "freq                            2252        2383  "
      ]
     },
     "execution_count": 70,
     "metadata": {},
     "output_type": "execute_result"
    }
   ],
   "source": [
    "df.describe()"
   ]
  },
  {
   "cell_type": "code",
   "execution_count": 71,
   "metadata": {},
   "outputs": [
    {
     "data": {
      "text/html": [
       "<div>\n",
       "<style scoped>\n",
       "    .dataframe tbody tr th:only-of-type {\n",
       "        vertical-align: middle;\n",
       "    }\n",
       "\n",
       "    .dataframe tbody tr th {\n",
       "        vertical-align: top;\n",
       "    }\n",
       "\n",
       "    .dataframe thead th {\n",
       "        text-align: right;\n",
       "    }\n",
       "</style>\n",
       "<table border=\"1\" class=\"dataframe\">\n",
       "  <thead>\n",
       "    <tr style=\"text-align: right;\">\n",
       "      <th></th>\n",
       "      <th>Name</th>\n",
       "      <th>Street Address</th>\n",
       "      <th>Location</th>\n",
       "      <th>Type</th>\n",
       "      <th>Reviews</th>\n",
       "      <th>No of Reviews</th>\n",
       "      <th>Comments</th>\n",
       "      <th>Contact Number</th>\n",
       "      <th>Trip_advisor Url</th>\n",
       "      <th>Menu</th>\n",
       "      <th>Price_Range</th>\n",
       "    </tr>\n",
       "  </thead>\n",
       "  <tbody>\n",
       "    <tr>\n",
       "      <th>0</th>\n",
       "      <td>Betty Lou's Seafood and Grill</td>\n",
       "      <td>318 Columbus Ave</td>\n",
       "      <td>San Francisco, CA 94133-3908</td>\n",
       "      <td>Seafood, Vegetarian Friendly, Vegan Options</td>\n",
       "      <td>4.5 of 5 bubbles</td>\n",
       "      <td>243 reviews</td>\n",
       "      <td>NaN</td>\n",
       "      <td>+1 415-757-0569</td>\n",
       "      <td>https://www.tripadvisor.com//Restaurant_Review...</td>\n",
       "      <td>Check The Website for a Menu</td>\n",
       "      <td>$$ - $$$</td>\n",
       "    </tr>\n",
       "    <tr>\n",
       "      <th>1</th>\n",
       "      <td>Coach House Diner</td>\n",
       "      <td>55 State Rt 4</td>\n",
       "      <td>Hackensack, NJ 07601-6337</td>\n",
       "      <td>Diner, American, Vegetarian Friendly</td>\n",
       "      <td>4 of 5 bubbles</td>\n",
       "      <td>84 reviews</td>\n",
       "      <td>Both times we were there very late, after 11 P...</td>\n",
       "      <td>+1 201-488-4999</td>\n",
       "      <td>https://www.tripadvisor.com//Restaurant_Review...</td>\n",
       "      <td>Check The Website for a Menu</td>\n",
       "      <td>$$ - $$$</td>\n",
       "    </tr>\n",
       "    <tr>\n",
       "      <th>2</th>\n",
       "      <td>Table Talk Diner</td>\n",
       "      <td>2521 South Rd Ste C</td>\n",
       "      <td>Poughkeepsie, NY 12601-5476</td>\n",
       "      <td>American, Diner, Vegetarian Friendly</td>\n",
       "      <td>4 of 5 bubbles</td>\n",
       "      <td>256 reviews</td>\n",
       "      <td>Waitress was very friendly but a little pricey...</td>\n",
       "      <td>+1 845-849-2839</td>\n",
       "      <td>https://www.tripadvisor.com//Restaurant_Review...</td>\n",
       "      <td>http://tabletalkdiner.com/menu/breakfast/</td>\n",
       "      <td>$$ - $$$</td>\n",
       "    </tr>\n",
       "    <tr>\n",
       "      <th>3</th>\n",
       "      <td>Sixty Vines</td>\n",
       "      <td>3701 Dallas Pkwy</td>\n",
       "      <td>Plano, TX 75093-7777</td>\n",
       "      <td>American, Wine Bar, Vegetarian Friendly</td>\n",
       "      <td>4.5 of 5 bubbles</td>\n",
       "      <td>235 reviews</td>\n",
       "      <td>Not sure why I went there for the second time....</td>\n",
       "      <td>+1 469-620-8463</td>\n",
       "      <td>https://www.tripadvisor.com//Restaurant_Review...</td>\n",
       "      <td>https://sixtyvines.com/menu/plano-tx/</td>\n",
       "      <td>$$ - $$$</td>\n",
       "    </tr>\n",
       "    <tr>\n",
       "      <th>4</th>\n",
       "      <td>The Clam Bar</td>\n",
       "      <td>3914 Brewerton Rd</td>\n",
       "      <td>Syracuse, NY 13212</td>\n",
       "      <td>American, Bar, Seafood</td>\n",
       "      <td>4 of 5 bubbles</td>\n",
       "      <td>285 reviews</td>\n",
       "      <td>Doesn't look like much from the outside but wa...</td>\n",
       "      <td>+1 315-458-1662</td>\n",
       "      <td>https://www.tripadvisor.com//Restaurant_Review...</td>\n",
       "      <td>Check The Website for a Menu</td>\n",
       "      <td>$$ - $$$</td>\n",
       "    </tr>\n",
       "  </tbody>\n",
       "</table>\n",
       "</div>"
      ],
      "text/plain": [
       "                            Name       Street Address  \\\n",
       "0  Betty Lou's Seafood and Grill     318 Columbus Ave   \n",
       "1              Coach House Diner        55 State Rt 4   \n",
       "2               Table Talk Diner  2521 South Rd Ste C   \n",
       "3                    Sixty Vines     3701 Dallas Pkwy   \n",
       "4                   The Clam Bar    3914 Brewerton Rd   \n",
       "\n",
       "                       Location                                          Type  \\\n",
       "0  San Francisco, CA 94133-3908   Seafood, Vegetarian Friendly, Vegan Options   \n",
       "1     Hackensack, NJ 07601-6337          Diner, American, Vegetarian Friendly   \n",
       "2   Poughkeepsie, NY 12601-5476          American, Diner, Vegetarian Friendly   \n",
       "3          Plano, TX 75093-7777       American, Wine Bar, Vegetarian Friendly   \n",
       "4            Syracuse, NY 13212                        American, Bar, Seafood   \n",
       "\n",
       "            Reviews No of Reviews  \\\n",
       "0  4.5 of 5 bubbles   243 reviews   \n",
       "1    4 of 5 bubbles    84 reviews   \n",
       "2    4 of 5 bubbles   256 reviews   \n",
       "3  4.5 of 5 bubbles   235 reviews   \n",
       "4    4 of 5 bubbles   285 reviews   \n",
       "\n",
       "                                            Comments   Contact Number  \\\n",
       "0                                                NaN  +1 415-757-0569   \n",
       "1  Both times we were there very late, after 11 P...  +1 201-488-4999   \n",
       "2  Waitress was very friendly but a little pricey...  +1 845-849-2839   \n",
       "3  Not sure why I went there for the second time....  +1 469-620-8463   \n",
       "4  Doesn't look like much from the outside but wa...  +1 315-458-1662   \n",
       "\n",
       "                                    Trip_advisor Url  \\\n",
       "0  https://www.tripadvisor.com//Restaurant_Review...   \n",
       "1  https://www.tripadvisor.com//Restaurant_Review...   \n",
       "2  https://www.tripadvisor.com//Restaurant_Review...   \n",
       "3  https://www.tripadvisor.com//Restaurant_Review...   \n",
       "4  https://www.tripadvisor.com//Restaurant_Review...   \n",
       "\n",
       "                                        Menu Price_Range  \n",
       "0               Check The Website for a Menu    $$ - $$$  \n",
       "1               Check The Website for a Menu    $$ - $$$  \n",
       "2  http://tabletalkdiner.com/menu/breakfast/    $$ - $$$  \n",
       "3      https://sixtyvines.com/menu/plano-tx/    $$ - $$$  \n",
       "4               Check The Website for a Menu    $$ - $$$  "
      ]
     },
     "execution_count": 71,
     "metadata": {},
     "output_type": "execute_result"
    }
   ],
   "source": [
    "df.head()"
   ]
  },
  {
   "cell_type": "code",
   "execution_count": 72,
   "metadata": {},
   "outputs": [
    {
     "data": {
      "text/plain": [
       "Name                  0\n",
       "Street Address        1\n",
       "Location              1\n",
       "Type                 29\n",
       "Reviews              68\n",
       "No of Reviews        26\n",
       "Comments            632\n",
       "Contact Number        1\n",
       "Trip_advisor Url     13\n",
       "Menu                  1\n",
       "Price_Range           1\n",
       "dtype: int64"
      ]
     },
     "execution_count": 72,
     "metadata": {},
     "output_type": "execute_result"
    }
   ],
   "source": [
    "df.isnull().sum()"
   ]
  },
  {
   "attachments": {},
   "cell_type": "markdown",
   "metadata": {},
   "source": [
    "Drop columns that do not provide any information and rename columns to remove spaces"
   ]
  },
  {
   "cell_type": "code",
   "execution_count": 73,
   "metadata": {},
   "outputs": [
    {
     "name": "stdout",
     "output_type": "stream",
     "text": [
      "Index(['Name', 'Street Address', 'Location', 'Type', 'Reviews',\n",
      "       'No of Reviews', 'Comments', 'Contact Number', 'Trip_advisor Url',\n",
      "       'Menu', 'Price_Range'],\n",
      "      dtype='object')\n"
     ]
    },
    {
     "data": {
      "text/plain": [
       "Index(['Name', 'Type', 'Reviews', 'No_of_Reviews', 'Menu', 'Price_Range'], dtype='object')"
      ]
     },
     "execution_count": 73,
     "metadata": {},
     "output_type": "execute_result"
    }
   ],
   "source": [
    "print(df.columns)\n",
    "df = df.drop(['Street Address', 'Trip_advisor Url', 'Contact Number', 'Location', 'Comments'], axis=1)\n",
    "df = df.rename(mapper={\"No of Reviews\": \"No_of_Reviews\"}, axis='columns')\n",
    "df.columns"
   ]
  },
  {
   "cell_type": "markdown",
   "metadata": {},
   "source": [
    "The 'Reviews' & 'No of reviews' columns can give us more information in numeric form."
   ]
  },
  {
   "cell_type": "code",
   "execution_count": 74,
   "metadata": {},
   "outputs": [
    {
     "name": "stdout",
     "output_type": "stream",
     "text": [
      "['4.5 of 5 bubbles' '4 of 5 bubbles' '5 of 5 bubbles' '3.5 of 5 bubbles'\n",
      " '4,5 of 5 bubbles' '6 of 5 bubbles' '100 of 5 bubbles' '3 of 5 bubbles'\n",
      " nan 'No review' '0 of 5 bubbles' '-5 of 5 bubbles']\n",
      "[  4.5   4.    5.    3.5   6.  100.    3.    nan  -1.    0.   -5. ]\n"
     ]
    },
    {
     "data": {
      "text/plain": [
       "array([4.5, 4. , 5. , 3.5, 3. ])"
      ]
     },
     "execution_count": 74,
     "metadata": {},
     "output_type": "execute_result"
    }
   ],
   "source": [
    "def extract_rev(rev):\n",
    "  rev = str(rev)\n",
    "  rev_txt = rev.split()[0].replace(',', '.')\n",
    "  try:\n",
    "    return float(rev_txt)\n",
    "  except:\n",
    "    return -1\n",
    "\n",
    "print(df.Reviews.unique())\n",
    "df['Reviews'] = df['Reviews'].apply(extract_rev)\n",
    "print(df.Reviews.unique())\n",
    "df = df[(df['Reviews'] > 0) & (df['Reviews'] <= 5)]\n",
    "df.Reviews.unique()\n"
   ]
  },
  {
   "cell_type": "code",
   "execution_count": 75,
   "metadata": {},
   "outputs": [
    {
     "data": {
      "text/plain": [
       "array([ 243,   84,  256,  235,  285, 1406,  220,   89,   90,  258,  271,\n",
       "         87,  118,  706,  104,  314,  193, 1198,  280, 1807,  642,  928,\n",
       "         30,  179,  746,  119,  829,  515,  123,  189,   39,  742,  264,\n",
       "        399,  111,   24,  187, 1653,  223,  153,  240,  364,  191,  775,\n",
       "        124,  198,  292,   29,  683,   27,  214,  513,   44,   28,  611,\n",
       "        307,  440,  660,  413,  135,   74,  160,  273,   86,  932,  378,\n",
       "        217,  437,  138,   51,  250,  219,  184,  174,   11,   58,   12,\n",
       "       1490,  162,  401,  301,  493,  100,   54,   25,  516,  282,  202,\n",
       "       1492,  114,  108,   47,   77,  166,  161,  182,  315,  165,  412,\n",
       "        373,  116,  210,   67,  132,  404,   46,  393,  545,  488,   95,\n",
       "        379, 1788, 1371,  171,  203,   65,  269,  181,  368,  783,  276,\n",
       "        262,  103,  322,  441,   64,  236,  350,  201,  310,  332,  805,\n",
       "        238,   23, 3274,  130,  563,  532,  253,  128,  144,  141,  185,\n",
       "        150,  122,  241,  209,   80,  206,  137,  428,   82,  311,  224,\n",
       "         43,   40,  820,  395,  593,  151,  146,  317,  216,  218,  239,\n",
       "        362, 1123,   85,   21,  443,  354,   55,  821,  164,  211,  564,\n",
       "        244,   56,  270,   71,  670, 1633,  290, 1256,  346,   13, 1544,\n",
       "        205,  204,  319,   42, 1045,  267,  170,   78,  455,  147,  351,\n",
       "       2518, 1076,  245,  261,  369,  540,  148,  377,   70,   53,  178,\n",
       "        142, 1117,  897,  374,  666,  982,  834,   61,  386,  942,   19,\n",
       "         59,    1,  157,  175,  194,  232,   32,   45,  113,  485,   72,\n",
       "         37,   88,  197,  274,  472,  705,  808,  106,  384,  712,  260,\n",
       "        498,   22,  167,  370,  172,  229,   69,  892,  215,  324,  697,\n",
       "        268,  163,  231,  723,  600,   36,  176,  521,  287,  121,  180,\n",
       "         49, 3775,  237,  281,  133,   76,  398,  207,  356,   15,  304,\n",
       "        438,  419,   94, 1381,  112,  125,  678,  695,   26,  246,  937,\n",
       "        200,  230,   75,  987,  544,  188,  990,  136,  192,  284, 1021,\n",
       "        302,  254,  233,  186, 1578, 1129,   16,  463,  752,  283,  110,\n",
       "         48,   91,  225,   20,  272,   83,  406,  221,   96, 1294, 1548,\n",
       "       1086,  313,  159,   60,  349,  747,  129,  134,  861, 1207,  190,\n",
       "        372,  156,  574,  339,  636, 1085,  323,  115,  303,  149,  659,\n",
       "        247,    7,  417,  618,  392,  353,  424,  605,  154,  594,  102,\n",
       "        371,  876,  396,  263,  924,  966,  222,   73,  948, 2282, 1124,\n",
       "       1439,  479,  394,  298,  345,  708,  606,  357,  557,  342,  684,\n",
       "         35, 1458,  278,  584,  973,  109,   92,  807,  503,  131, 3807,\n",
       "        477,  648,   99,  228,   34, 1237,  481,  234,  843,  173,  249,\n",
       "         62,   63,  728,  510,  326,  738,  691,  535,  305,  722,  255,\n",
       "        363,  277,  633,  583, 1512,  786,  615, 2290,  508,  537,  265,\n",
       "        505, 2271,  329, 2617,  623,  120,  780,  694,  140,  127,  866,\n",
       "       1321,  266,  904,  251, 1096,  295,  483,  177,  143, 1564,   66,\n",
       "        383, 1182,  849,  248,  169, 1360,  299,  252,  983,  321,  433,\n",
       "        226,  718,  418,   50,  490,  312,  308, 2534,  432,  306,  117,\n",
       "        139,  145,  533,  242,  358,  561,   68,  647, 3095,  895, 2306,\n",
       "        158,  499,  426, 1657,  107,  152,  336, 4620,  536,  748, 1201,\n",
       "       1100,  388,  686,  495,  469,  465, 1843, 3083,  294,  638,  409,\n",
       "        603,   52,  334,  126,  854, 1398,  259,  496,   57,  297,  453,\n",
       "        750,  105,  338,  923,  597,   38,  257, 2580,  482,  415,  410,\n",
       "       2057,  155,  340,  837,  504, 1140,  434,  972,  397, 1330,  427,\n",
       "         97,  101,  766,  541, 1454, 1113,  478,  425,  227,  293,  652,\n",
       "        309, 1741,  320,  288,  199,  701,  777,  489,  325,  760,  459,\n",
       "        576,  196,  448,  957,   18, 1089,  643,  331,  794,  649, 1277,\n",
       "        195,  212, 1038,  318,  621,   41, 1215,   79,  480, 1216,   31,\n",
       "         98,  462,  183,  619,   81,  522,  429,    5,  585,  275,  333,\n",
       "        300,  279,  365, 1884, 1191,  518,  344, 1104,  891, 1156, 1605,\n",
       "        710, 1088,  367,  817,   33,  213,  502,  558,  512, 1134,  943,\n",
       "        337,  548,  454,  995,  360,  468,  630,  963,  640, 1331,   17,\n",
       "        376,  509, 1732, 1722,  286,  461,  520,  671,  168, 1111,  492,\n",
       "        361,  661, 1103,  389, 1762,  685, 1443,  840,  570,  390,  497,\n",
       "        823,  588,  343,  838,  414,   93,  517, 2071, 1047,  464,  436,\n",
       "        884,  700,  423,  335, 1242,  754, 3978, 1049,  347,   14, 1766,\n",
       "       3113, 2204,  724,  391,  514,  713,  715, 2246, 2698, 1177,  674,\n",
       "        579, 1541,  470, 2750, 3785,  381, 1018, 2987,  487,  416,  676,\n",
       "        970,  732,  411,  359,  439, 1584,  348,  792, 1214,  886,  341,\n",
       "        919,  663, 5448,  408,  476, 1679,  519,  582,  865,  366,  442,\n",
       "        818, 1520, 1283,  445,  994,  566,  776,  656,  862,  328,  446,\n",
       "       1055, 1922,  524,  385,  951,  628, 1097,  352,  620,  859,  422,\n",
       "       1223,  894, 2676,  405,  965, 1274,    8,  466, 1037,  330,  997,\n",
       "       1858,  918, 1197,  559,  757,  692, 1203,  420, 2126, 3444, 1063,\n",
       "        741,  526,  289, 1333,  614,  531, 1599, 1094, 1342,  575,  616,\n",
       "        721,  941, 4055,  714,  494, 1003, 1669,  387,  631,  382,  774,\n",
       "        572, 1026,  812,  910, 1646,  816,  599,  952,  546, 1846,  431,\n",
       "        625, 1537,  208,  764,  991,  421,  858,  500,  725,  447,  711,\n",
       "        491,  826,  565,  296, 1530,  679,  608])"
      ]
     },
     "execution_count": 75,
     "metadata": {},
     "output_type": "execute_result"
    }
   ],
   "source": [
    "def extract_rev_num(rev):\n",
    "  rev = str(rev).split()[0]\n",
    "  try:\n",
    "    return int(rev)\n",
    "  except:\n",
    "    return -999\n",
    "\n",
    "# print(df['No_of_Reviews'].unique())\n",
    "df['No_of_Reviews'] = df['No_of_Reviews'].replace('([,.]+)', '', regex=True)\n",
    "df['No_of_Reviews'] = df['No_of_Reviews'].replace('[oO]', '0', regex=True)\n",
    "df['No_of_Reviews'] = df['No_of_Reviews'].apply(extract_rev_num)\n",
    "df = df[(df['No_of_Reviews'] >= 0) & (df['No_of_Reviews'] < 100000)]\n",
    "\n",
    "df['No_of_Reviews'].unique()\n",
    "# df['No_of_Reviews'].sort_values()[:10]"
   ]
  },
  {
   "attachments": {},
   "cell_type": "markdown",
   "metadata": {},
   "source": [
    "Adding an 'Vegan' and 'Vegetarian' columns, deriving from the words in 'Type'"
   ]
  },
  {
   "cell_type": "code",
   "execution_count": 76,
   "metadata": {},
   "outputs": [],
   "source": [
    "def extract_vegan(typ):\n",
    "  if str(typ).lower().find('vegan') == -1:\n",
    "    return False\n",
    "  return True\n",
    "\n",
    "def extract_vegetarian(typ):\n",
    "  if str(typ).lower().find('vegetarian') == -1:\n",
    "    return False\n",
    "  return True\n",
    "\n",
    "df['Vegan'] = df['Type'].apply(extract_vegan)\n",
    "df['Vegetarian'] = df['Type'].apply(extract_vegetarian)\n"
   ]
  },
  {
   "attachments": {},
   "cell_type": "markdown",
   "metadata": {},
   "source": [
    "Removing bogus values for 'Price_Range' column"
   ]
  },
  {
   "cell_type": "code",
   "execution_count": 77,
   "metadata": {},
   "outputs": [
    {
     "data": {
      "text/plain": [
       "2959"
      ]
     },
     "execution_count": 77,
     "metadata": {},
     "output_type": "execute_result"
    }
   ],
   "source": [
    "df['Price_Range'].count()"
   ]
  },
  {
   "cell_type": "code",
   "execution_count": 78,
   "metadata": {},
   "outputs": [
    {
     "data": {
      "text/plain": [
       "(2953, 8)"
      ]
     },
     "execution_count": 78,
     "metadata": {},
     "output_type": "execute_result"
    }
   ],
   "source": [
    "df = df[df.Price_Range.isin(['$', '$$ - $$$', '$$$$'])]\n",
    "df.shape"
   ]
  },
  {
   "cell_type": "code",
   "execution_count": 79,
   "metadata": {},
   "outputs": [
    {
     "data": {
      "text/plain": [
       "array(['Medium', 'Pricey', 'Cheap'], dtype=object)"
      ]
     },
     "execution_count": 79,
     "metadata": {},
     "output_type": "execute_result"
    }
   ],
   "source": [
    "df.Price_Range = df.Price_Range.replace(['$', '$$ - $$$', '$$$$'], ['Cheap', 'Medium', 'Pricey'])\n",
    "df.Price_Range.unique()"
   ]
  },
  {
   "attachments": {},
   "cell_type": "markdown",
   "metadata": {},
   "source": [
    "Remove duplicates"
   ]
  },
  {
   "cell_type": "code",
   "execution_count": 80,
   "metadata": {},
   "outputs": [],
   "source": [
    "df = df.drop_duplicates()"
   ]
  },
  {
   "attachments": {},
   "cell_type": "markdown",
   "metadata": {},
   "source": [
    "One last look at the data before saving as our clean dataset"
   ]
  },
  {
   "cell_type": "code",
   "execution_count": 81,
   "metadata": {},
   "outputs": [
    {
     "name": "stdout",
     "output_type": "stream",
     "text": [
      "(2790, 8)\n"
     ]
    },
    {
     "data": {
      "text/plain": [
       "Name              0\n",
       "Type             21\n",
       "Reviews           0\n",
       "No_of_Reviews     0\n",
       "Menu              0\n",
       "Price_Range       0\n",
       "Vegan             0\n",
       "Vegetarian        0\n",
       "dtype: int64"
      ]
     },
     "execution_count": 81,
     "metadata": {},
     "output_type": "execute_result"
    }
   ],
   "source": [
    "clean_df = df\n",
    "print(clean_df.shape)\n",
    "clean_df.isna().sum()"
   ]
  },
  {
   "cell_type": "code",
   "execution_count": 82,
   "metadata": {},
   "outputs": [
    {
     "data": {
      "text/html": [
       "<div>\n",
       "<style scoped>\n",
       "    .dataframe tbody tr th:only-of-type {\n",
       "        vertical-align: middle;\n",
       "    }\n",
       "\n",
       "    .dataframe tbody tr th {\n",
       "        vertical-align: top;\n",
       "    }\n",
       "\n",
       "    .dataframe thead th {\n",
       "        text-align: right;\n",
       "    }\n",
       "</style>\n",
       "<table border=\"1\" class=\"dataframe\">\n",
       "  <thead>\n",
       "    <tr style=\"text-align: right;\">\n",
       "      <th></th>\n",
       "      <th>Name</th>\n",
       "      <th>Type</th>\n",
       "      <th>Reviews</th>\n",
       "      <th>No_of_Reviews</th>\n",
       "      <th>Menu</th>\n",
       "      <th>Price_Range</th>\n",
       "      <th>Vegan</th>\n",
       "      <th>Vegetarian</th>\n",
       "    </tr>\n",
       "  </thead>\n",
       "  <tbody>\n",
       "    <tr>\n",
       "      <th>0</th>\n",
       "      <td>Betty Lou's Seafood and Grill</td>\n",
       "      <td>Seafood, Vegetarian Friendly, Vegan Options</td>\n",
       "      <td>4.5</td>\n",
       "      <td>243</td>\n",
       "      <td>Check The Website for a Menu</td>\n",
       "      <td>Medium</td>\n",
       "      <td>True</td>\n",
       "      <td>True</td>\n",
       "    </tr>\n",
       "    <tr>\n",
       "      <th>1</th>\n",
       "      <td>Coach House Diner</td>\n",
       "      <td>Diner, American, Vegetarian Friendly</td>\n",
       "      <td>4.0</td>\n",
       "      <td>84</td>\n",
       "      <td>Check The Website for a Menu</td>\n",
       "      <td>Medium</td>\n",
       "      <td>False</td>\n",
       "      <td>True</td>\n",
       "    </tr>\n",
       "    <tr>\n",
       "      <th>2</th>\n",
       "      <td>Table Talk Diner</td>\n",
       "      <td>American, Diner, Vegetarian Friendly</td>\n",
       "      <td>4.0</td>\n",
       "      <td>256</td>\n",
       "      <td>http://tabletalkdiner.com/menu/breakfast/</td>\n",
       "      <td>Medium</td>\n",
       "      <td>False</td>\n",
       "      <td>True</td>\n",
       "    </tr>\n",
       "    <tr>\n",
       "      <th>3</th>\n",
       "      <td>Sixty Vines</td>\n",
       "      <td>American, Wine Bar, Vegetarian Friendly</td>\n",
       "      <td>4.5</td>\n",
       "      <td>235</td>\n",
       "      <td>https://sixtyvines.com/menu/plano-tx/</td>\n",
       "      <td>Medium</td>\n",
       "      <td>False</td>\n",
       "      <td>True</td>\n",
       "    </tr>\n",
       "    <tr>\n",
       "      <th>4</th>\n",
       "      <td>The Clam Bar</td>\n",
       "      <td>American, Bar, Seafood</td>\n",
       "      <td>4.0</td>\n",
       "      <td>285</td>\n",
       "      <td>Check The Website for a Menu</td>\n",
       "      <td>Medium</td>\n",
       "      <td>False</td>\n",
       "      <td>False</td>\n",
       "    </tr>\n",
       "  </tbody>\n",
       "</table>\n",
       "</div>"
      ],
      "text/plain": [
       "                            Name  \\\n",
       "0  Betty Lou's Seafood and Grill   \n",
       "1              Coach House Diner   \n",
       "2               Table Talk Diner   \n",
       "3                    Sixty Vines   \n",
       "4                   The Clam Bar   \n",
       "\n",
       "                                           Type  Reviews  No_of_Reviews  \\\n",
       "0   Seafood, Vegetarian Friendly, Vegan Options      4.5            243   \n",
       "1          Diner, American, Vegetarian Friendly      4.0             84   \n",
       "2          American, Diner, Vegetarian Friendly      4.0            256   \n",
       "3       American, Wine Bar, Vegetarian Friendly      4.5            235   \n",
       "4                        American, Bar, Seafood      4.0            285   \n",
       "\n",
       "                                        Menu Price_Range  Vegan  Vegetarian  \n",
       "0               Check The Website for a Menu      Medium   True        True  \n",
       "1               Check The Website for a Menu      Medium  False        True  \n",
       "2  http://tabletalkdiner.com/menu/breakfast/      Medium  False        True  \n",
       "3      https://sixtyvines.com/menu/plano-tx/      Medium  False        True  \n",
       "4               Check The Website for a Menu      Medium  False       False  "
      ]
     },
     "execution_count": 82,
     "metadata": {},
     "output_type": "execute_result"
    }
   ],
   "source": [
    "clean_df.head()"
   ]
  },
  {
   "cell_type": "code",
   "execution_count": 83,
   "metadata": {},
   "outputs": [
    {
     "data": {
      "text/html": [
       "<div>\n",
       "<style scoped>\n",
       "    .dataframe tbody tr th:only-of-type {\n",
       "        vertical-align: middle;\n",
       "    }\n",
       "\n",
       "    .dataframe tbody tr th {\n",
       "        vertical-align: top;\n",
       "    }\n",
       "\n",
       "    .dataframe thead th {\n",
       "        text-align: right;\n",
       "    }\n",
       "</style>\n",
       "<table border=\"1\" class=\"dataframe\">\n",
       "  <thead>\n",
       "    <tr style=\"text-align: right;\">\n",
       "      <th></th>\n",
       "      <th>Reviews</th>\n",
       "      <th>No_of_Reviews</th>\n",
       "    </tr>\n",
       "  </thead>\n",
       "  <tbody>\n",
       "    <tr>\n",
       "      <th>count</th>\n",
       "      <td>2790.000000</td>\n",
       "      <td>2790.000000</td>\n",
       "    </tr>\n",
       "    <tr>\n",
       "      <th>mean</th>\n",
       "      <td>4.325986</td>\n",
       "      <td>302.322581</td>\n",
       "    </tr>\n",
       "    <tr>\n",
       "      <th>std</th>\n",
       "      <td>0.271621</td>\n",
       "      <td>407.759069</td>\n",
       "    </tr>\n",
       "    <tr>\n",
       "      <th>min</th>\n",
       "      <td>3.500000</td>\n",
       "      <td>5.000000</td>\n",
       "    </tr>\n",
       "    <tr>\n",
       "      <th>25%</th>\n",
       "      <td>4.000000</td>\n",
       "      <td>90.000000</td>\n",
       "    </tr>\n",
       "    <tr>\n",
       "      <th>50%</th>\n",
       "      <td>4.500000</td>\n",
       "      <td>188.000000</td>\n",
       "    </tr>\n",
       "    <tr>\n",
       "      <th>75%</th>\n",
       "      <td>4.500000</td>\n",
       "      <td>342.000000</td>\n",
       "    </tr>\n",
       "    <tr>\n",
       "      <th>max</th>\n",
       "      <td>5.000000</td>\n",
       "      <td>5448.000000</td>\n",
       "    </tr>\n",
       "  </tbody>\n",
       "</table>\n",
       "</div>"
      ],
      "text/plain": [
       "           Reviews  No_of_Reviews\n",
       "count  2790.000000    2790.000000\n",
       "mean      4.325986     302.322581\n",
       "std       0.271621     407.759069\n",
       "min       3.500000       5.000000\n",
       "25%       4.000000      90.000000\n",
       "50%       4.500000     188.000000\n",
       "75%       4.500000     342.000000\n",
       "max       5.000000    5448.000000"
      ]
     },
     "execution_count": 83,
     "metadata": {},
     "output_type": "execute_result"
    }
   ],
   "source": [
    "clean_df.describe()"
   ]
  },
  {
   "cell_type": "code",
   "execution_count": 84,
   "metadata": {},
   "outputs": [],
   "source": [
    "clean_df.to_csv('clean_TripAdvisor.csv', index=False)"
   ]
  }
 ],
 "metadata": {
  "kernelspec": {
   "display_name": "Python 3.10.6 64-bit",
   "language": "python",
   "name": "python3"
  },
  "language_info": {
   "codemirror_mode": {
    "name": "ipython",
    "version": 3
   },
   "file_extension": ".py",
   "mimetype": "text/x-python",
   "name": "python",
   "nbconvert_exporter": "python",
   "pygments_lexer": "ipython3",
   "version": "3.10.6 (main, Nov 14 2022, 16:10:14) [GCC 11.3.0]"
  },
  "orig_nbformat": 4,
  "vscode": {
   "interpreter": {
    "hash": "916dbcbb3f70747c44a77c7bcd40155683ae19c65e1c03b4aa3499c5328201f1"
   }
  }
 },
 "nbformat": 4,
 "nbformat_minor": 2
}
