{
 "cells": [
  {
   "cell_type": "code",
   "execution_count": 2,
   "metadata": {},
   "outputs": [],
   "source": [
    "# imports\n",
    "from sympy import *\n",
    "import numpy as np\n"
   ]
  },
  {
   "cell_type": "code",
   "execution_count": 4,
   "metadata": {},
   "outputs": [
    {
     "data": {
      "text/plain": [
       "(x, y, z)"
      ]
     },
     "execution_count": 4,
     "metadata": {},
     "output_type": "execute_result"
    }
   ],
   "source": [
    "# Creating variables\n",
    "x = symbols('x')\n",
    "y, z = symbols('y z')\n",
    "\n",
    "x, y, z"
   ]
  },
  {
   "cell_type": "code",
   "execution_count": 143,
   "metadata": {},
   "outputs": [
    {
     "name": "stdout",
     "output_type": "stream",
     "text": [
      "True False\n",
      "True\n",
      "Eq(z, 2) False\n"
     ]
    }
   ],
   "source": [
    "# Equality\n",
    "x = 1\n",
    "print(Eq(x + 2, 3), Eq(x - 1, 9))\n",
    "\n",
    "y = 3\n",
    "print(Eq(y**2 - 1, (y + 1)*(y - 1)))\n",
    "\n",
    "print(Eq(z, 2), (z + 1)**2 == z**2 + 2*z + 1)"
   ]
  },
  {
   "cell_type": "code",
   "execution_count": 144,
   "metadata": {},
   "outputs": [
    {
     "data": {
      "text/latex": [
       "$\\displaystyle z^{2} - 3 z - 3$"
      ],
      "text/plain": [
       "z**2 - 3*z - 3"
      ]
     },
     "execution_count": 144,
     "metadata": {},
     "output_type": "execute_result"
    }
   ],
   "source": [
    "# Simplify expressions\n",
    "a = z**2 - z\n",
    "b = 2*z + 3\n",
    "simplify(a - b)"
   ]
  },
  {
   "cell_type": "code",
   "execution_count": 146,
   "metadata": {},
   "outputs": [
    {
     "name": "stdout",
     "output_type": "stream",
     "text": [
      "1\n",
      "0\n",
      "Limit((cos(x) - 1)/x, x, 0)\n",
      "0\n",
      "oo\n",
      "-oo\n"
     ]
    }
   ],
   "source": [
    "# Limits\n",
    "x = symbols('x')\n",
    "\n",
    "print(limit(tan(x)/x, x, 0))\n",
    "print(limit(exp(-x)/x, x, oo))\n",
    "\n",
    "# Unevaluated\n",
    "expr = Limit((cos(x) - 1)/x, x, 0)\n",
    "print(expr)\n",
    "print(expr.doit())\n",
    "\n",
    "# One sided limits\n",
    "expr = exp(x)/x\n",
    "print(limit(expr, x, 0, '+'))\n",
    "print(limit(expr, x, 0, '-'))"
   ]
  },
  {
   "cell_type": "code",
   "execution_count": 157,
   "metadata": {},
   "outputs": [
    {
     "data": {
      "text/latex": [
       "$\\displaystyle \\frac{\\partial^{3}}{\\partial z^{2}\\partial y} \\left(4 z - \\cot{\\left(y \\right)}\\right)$"
      ],
      "text/plain": [
       "Derivative(4*z - cot(y), y, (z, 2))"
      ]
     },
     "execution_count": 157,
     "metadata": {},
     "output_type": "execute_result"
    }
   ],
   "source": [
    "# Derivatives\n",
    "y, z = symbols('y z')\n",
    "diff(3*y**3 + (y**2)*sin(z), y, 2, z)\n",
    "\n",
    "# Unevaluated\n",
    "expr = Derivative(4*z - cot(y), y, z, 2)\n",
    "expr"
   ]
  },
  {
   "cell_type": "code",
   "execution_count": 11,
   "metadata": {},
   "outputs": [
    {
     "data": {
      "text/latex": [
       "$\\displaystyle e^{a}$"
      ],
      "text/plain": [
       "exp(a)"
      ]
     },
     "execution_count": 11,
     "metadata": {},
     "output_type": "execute_result"
    }
   ],
   "source": [
    "# Integrals: no constant included\n",
    "\n",
    "a, b = symbols('a b')\n",
    "integrate(exp(a), a)"
   ]
  },
  {
   "cell_type": "code",
   "execution_count": 15,
   "metadata": {},
   "outputs": [
    {
     "name": "stdout",
     "output_type": "stream",
     "text": [
      "1\n"
     ]
    },
    {
     "data": {
      "text/latex": [
       "$\\displaystyle \\int x^{x}\\, dx$"
      ],
      "text/plain": [
       "Integral(x**x, x)"
      ]
     },
     "execution_count": 15,
     "metadata": {},
     "output_type": "execute_result"
    }
   ],
   "source": [
    "# definite integrals: one can pass multiple nesting limits\n",
    "print(integrate(sec(b)**2, (b, 0, pi/4)))\n",
    "\n",
    "# unevaluated integral or couldn't perform integration\n",
    "Integral(x**x, x)"
   ]
  },
  {
   "cell_type": "code",
   "execution_count": null,
   "metadata": {},
   "outputs": [],
   "source": []
  }
 ],
 "metadata": {
  "kernelspec": {
   "display_name": "Python 3.10.6 64-bit",
   "language": "python",
   "name": "python3"
  },
  "language_info": {
   "codemirror_mode": {
    "name": "ipython",
    "version": 3
   },
   "file_extension": ".py",
   "mimetype": "text/x-python",
   "name": "python",
   "nbconvert_exporter": "python",
   "pygments_lexer": "ipython3",
   "version": "3.10.6"
  },
  "orig_nbformat": 4,
  "vscode": {
   "interpreter": {
    "hash": "916dbcbb3f70747c44a77c7bcd40155683ae19c65e1c03b4aa3499c5328201f1"
   }
  }
 },
 "nbformat": 4,
 "nbformat_minor": 2
}
