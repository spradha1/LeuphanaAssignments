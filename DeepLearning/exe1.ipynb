{
 "cells": [
  {
   "cell_type": "code",
   "execution_count": 1,
   "metadata": {},
   "outputs": [],
   "source": [
    "import torch\n",
    "import torch.nn as nn"
   ]
  },
  {
   "cell_type": "markdown",
   "metadata": {},
   "source": [
    "### Generate Tensor"
   ]
  },
  {
   "cell_type": "code",
   "execution_count": 2,
   "metadata": {},
   "outputs": [
    {
     "data": {
      "text/plain": [
       "tensor([[4, 4, 4, 4, 4, 4, 4, 4, 4, 4, 4, 4, 4],\n",
       "        [4, 4, 4, 4, 4, 4, 4, 4, 4, 4, 4, 4, 4],\n",
       "        [4, 4, 4, 4, 4, 4, 4, 4, 4, 4, 4, 4, 4],\n",
       "        [4, 4, 4, 4, 4, 4, 4, 4, 4, 4, 4, 4, 4],\n",
       "        [4, 4, 4, 4, 4, 4, 4, 4, 4, 4, 4, 4, 4],\n",
       "        [4, 4, 4, 4, 4, 4, 4, 4, 4, 4, 4, 4, 4],\n",
       "        [4, 4, 4, 4, 4, 4, 4, 4, 4, 4, 4, 4, 4],\n",
       "        [4, 4, 4, 4, 4, 4, 4, 4, 4, 4, 4, 4, 4],\n",
       "        [4, 4, 4, 4, 4, 4, 4, 4, 4, 4, 4, 4, 4],\n",
       "        [4, 4, 4, 4, 4, 4, 4, 4, 4, 4, 4, 4, 4],\n",
       "        [4, 4, 4, 4, 4, 4, 4, 4, 4, 4, 4, 4, 4],\n",
       "        [4, 4, 4, 4, 4, 4, 4, 4, 4, 4, 4, 4, 4],\n",
       "        [4, 4, 4, 4, 4, 4, 4, 4, 4, 4, 4, 4, 4]])"
      ]
     },
     "execution_count": 2,
     "metadata": {},
     "output_type": "execute_result"
    }
   ],
   "source": [
    "rows, cols = 13, 13\n",
    "t = torch.full(size=(rows, cols), fill_value=4)\n",
    "t"
   ]
  },
  {
   "cell_type": "code",
   "execution_count": 3,
   "metadata": {},
   "outputs": [],
   "source": [
    "t[:, 1] += 1\n",
    "t[:, cols//2:(cols+1)//2] += 1\n",
    "t[:, -2] += 1\n",
    "\n",
    "t[1, :] += 1\n",
    "t[rows//2: (rows+1)//2] += 1\n",
    "t[-2, :] += 1"
   ]
  },
  {
   "cell_type": "code",
   "execution_count": 4,
   "metadata": {},
   "outputs": [
    {
     "data": {
      "text/plain": [
       "tensor([[4, 5, 4, 4, 4, 4, 5, 4, 4, 4, 4, 5, 4],\n",
       "        [5, 5, 5, 5, 5, 5, 5, 5, 5, 5, 5, 5, 5],\n",
       "        [4, 5, 4, 4, 4, 4, 5, 4, 4, 4, 4, 5, 4],\n",
       "        [4, 5, 4, 4, 4, 4, 5, 4, 4, 4, 4, 5, 4],\n",
       "        [4, 5, 4, 4, 4, 4, 5, 4, 4, 4, 4, 5, 4],\n",
       "        [4, 5, 4, 4, 4, 4, 5, 4, 4, 4, 4, 5, 4],\n",
       "        [5, 5, 5, 5, 5, 5, 5, 5, 5, 5, 5, 5, 5],\n",
       "        [4, 5, 4, 4, 4, 4, 5, 4, 4, 4, 4, 5, 4],\n",
       "        [4, 5, 4, 4, 4, 4, 5, 4, 4, 4, 4, 5, 4],\n",
       "        [4, 5, 4, 4, 4, 4, 5, 4, 4, 4, 4, 5, 4],\n",
       "        [4, 5, 4, 4, 4, 4, 5, 4, 4, 4, 4, 5, 4],\n",
       "        [5, 5, 5, 5, 5, 5, 5, 5, 5, 5, 5, 5, 5],\n",
       "        [4, 5, 4, 4, 4, 4, 5, 4, 4, 4, 4, 5, 4]])"
      ]
     },
     "execution_count": 4,
     "metadata": {},
     "output_type": "execute_result"
    }
   ],
   "source": [
    "t[1, [1, cols//2, -2]] -= 1\n",
    "t[rows//2, [1, cols//2, -2]] -= 1\n",
    "t[-2, [1, cols//2, -2]] -= 1\n",
    "t"
   ]
  },
  {
   "cell_type": "code",
   "execution_count": 5,
   "metadata": {},
   "outputs": [
    {
     "data": {
      "text/plain": [
       "tensor([[4, 5, 4, 4, 4, 4, 5, 4, 4, 4, 4, 5, 4],\n",
       "        [5, 5, 5, 5, 5, 5, 5, 5, 5, 5, 5, 5, 5],\n",
       "        [4, 5, 4, 4, 4, 4, 5, 4, 4, 4, 4, 5, 4],\n",
       "        [4, 5, 4, 6, 6, 4, 5, 4, 6, 6, 4, 5, 4],\n",
       "        [4, 5, 4, 6, 6, 4, 5, 4, 6, 6, 4, 5, 4],\n",
       "        [4, 5, 4, 4, 4, 4, 5, 4, 4, 4, 4, 5, 4],\n",
       "        [5, 5, 5, 5, 5, 5, 5, 5, 5, 5, 5, 5, 5],\n",
       "        [4, 5, 4, 4, 4, 4, 5, 4, 4, 4, 4, 5, 4],\n",
       "        [4, 5, 4, 6, 6, 4, 5, 4, 6, 6, 4, 5, 4],\n",
       "        [4, 5, 4, 6, 6, 4, 5, 4, 6, 6, 4, 5, 4],\n",
       "        [4, 5, 4, 4, 4, 4, 5, 4, 4, 4, 4, 5, 4],\n",
       "        [5, 5, 5, 5, 5, 5, 5, 5, 5, 5, 5, 5, 5],\n",
       "        [4, 5, 4, 4, 4, 4, 5, 4, 4, 4, 4, 5, 4]])"
      ]
     },
     "execution_count": 5,
     "metadata": {},
     "output_type": "execute_result"
    }
   ],
   "source": [
    "t[3:5, 3:5] += 2\n",
    "t[3:5, 8:10] += 2\n",
    "t[8:10, 3:5] += 2\n",
    "t[8:10, 8:10] += 2\n",
    "t"
   ]
  },
  {
   "cell_type": "markdown",
   "metadata": {},
   "source": [
    "### Softmax"
   ]
  },
  {
   "cell_type": "code",
   "execution_count": 6,
   "metadata": {},
   "outputs": [
    {
     "name": "stdout",
     "output_type": "stream",
     "text": [
      "tensor([-0.0719,  0.4661,  0.0264, -0.8464, -0.4479])\n",
      "tensor([0.4820, 0.6145, 0.5066, 0.3002, 0.3899])\n",
      "tensor([0.2015, 0.3450, 0.2223, 0.0929, 0.1383])\n"
     ]
    }
   ],
   "source": [
    "t1 = torch.randn((5, ))\n",
    "print(t1)\n",
    "\n",
    "# sigmoid\n",
    "print(torch.sigmoid(t1))\n",
    "\n",
    "# softmax\n",
    "sfmx = nn.Softmax(dim=0)\n",
    "print(sfmx(t1))"
   ]
  },
  {
   "cell_type": "markdown",
   "metadata": {},
   "source": [
    "### Perceptron convergence verfication"
   ]
  },
  {
   "cell_type": "code",
   "execution_count": 7,
   "metadata": {},
   "outputs": [],
   "source": [
    "# dataset\n",
    "\n",
    "from sklearn.datasets import make_blobs\n",
    "from sklearn.svm import LinearSVC"
   ]
  },
  {
   "cell_type": "code",
   "execution_count": 8,
   "metadata": {},
   "outputs": [],
   "source": [
    "from scipy.spatial import ConvexHull\n",
    "from shapely.geometry import Polygon\n",
    "\n",
    "\n",
    "# check linearly separable\n",
    "def is_linearly_separable(pos_class, neg_class):\n",
    "\n",
    "  pos_hull = ConvexHull(pos_class)\n",
    "  neg_hull = ConvexHull(neg_class)\n",
    "  return not Polygon(pos_hull.points).intersects(Polygon(neg_hull.points))\n",
    "\n",
    "\n",
    "# create binary, linearly separable dataset (2D or 3D)\n",
    "def create_dataset(init_centers=[(1, 1), (2, 2)], class_std=1, samples=25):\n",
    "\n",
    "  dim = len(init_centers[0])\n",
    "  x, y = make_blobs(n_samples=samples, n_features=dim, centers=init_centers, cluster_std=class_std)\n",
    "  if not is_linearly_separable(x[y==0], x[y==1]):\n",
    "    print(\"not linearly separable!\")\n",
    "    x, y = create_dataset(init_centers=init_centers, class_std=class_std - 0.1, samples=samples)\n",
    "  return x, y\n",
    "\n",
    "\n",
    "# perceptron algorithm\n",
    "def perceptron(x, y):\n",
    "\n",
    "  # augment 1s in x\n",
    "  x = torch.cat((torch.ones((x.shape[0], 1)), torch.from_numpy(x)), dim=1)\n",
    "  # initial weight\n",
    "  w = torch.randn((x.shape[1], ), dtype=float)\n",
    "  k = 0\n",
    "\n",
    "  # check for errors\n",
    "  while True:\n",
    "    for xn, yn in zip(x, y):\n",
    "      if yn * torch.dot(w, xn) <= 0:\n",
    "        k += 1\n",
    "        w += yn * xn\n",
    "        break\n",
    "    else:\n",
    "      break\n",
    "  \n",
    "  return w, k"
   ]
  },
  {
   "cell_type": "code",
   "execution_count": 9,
   "metadata": {},
   "outputs": [
    {
     "name": "stdout",
     "output_type": "stream",
     "text": [
      "(25, 3) (25,)\n",
      "(25, 3) (25,)\n"
     ]
    }
   ],
   "source": [
    "# trying data clusters close and far, i.e. narrow and wide margins\n",
    "x, y = create_dataset([[1, 1, 1], [3, 3, 3]])\n",
    "x1, y1 = create_dataset([[1, 1, 1], [11, 11, 11]])\n",
    "\n",
    "# change 0 labels to -1\n",
    "y[y==0] = -1\n",
    "y1[y1==0] = -1\n",
    "print(x.shape, y.shape)\n",
    "print(x1.shape, y1.shape)"
   ]
  },
  {
   "cell_type": "code",
   "execution_count": 10,
   "metadata": {},
   "outputs": [
    {
     "name": "stdout",
     "output_type": "stream",
     "text": [
      "R:  6.499045858328029\n",
      "gamma:  0.6095724978390237\n",
      "Bound:  454.6827362468745\n",
      "R:  21.5528687008721\n",
      "gamma:  6.300462174117799\n",
      "Bound:  46.808566445704656\n"
     ]
    },
    {
     "name": "stderr",
     "output_type": "stream",
     "text": [
      "/home/sanjiv/miniconda3/envs/deepl/lib/python3.9/site-packages/sklearn/svm/_classes.py:32: FutureWarning: The default value of `dual` will change from `True` to `'auto'` in 1.5. Set the value of `dual` explicitly to suppress the warning.\n",
      "  warnings.warn(\n",
      "/home/sanjiv/miniconda3/envs/deepl/lib/python3.9/site-packages/sklearn/svm/_base.py:1242: ConvergenceWarning: Liblinear failed to converge, increase the number of iterations.\n",
      "  warnings.warn(\n",
      "/home/sanjiv/miniconda3/envs/deepl/lib/python3.9/site-packages/sklearn/svm/_classes.py:32: FutureWarning: The default value of `dual` will change from `True` to `'auto'` in 1.5. Set the value of `dual` explicitly to suppress the warning.\n",
      "  warnings.warn(\n",
      "/home/sanjiv/miniconda3/envs/deepl/lib/python3.9/site-packages/sklearn/svm/_base.py:1242: ConvergenceWarning: Liblinear failed to converge, increase the number of iterations.\n",
      "  warnings.warn(\n"
     ]
    }
   ],
   "source": [
    "# R & gamma\n",
    "\n",
    "for f, l in [(x, y), (x1, y1)]:\n",
    "  R = 0\n",
    "  for xn in f:\n",
    "    nrm = torch.linalg.vector_norm(torch.from_numpy(xn))\n",
    "    R = max(R, nrm.item())\n",
    "  print(\"R: \", R)\n",
    "\n",
    "  svm = LinearSVC(C=1000, loss=\"hinge\", tol=1e-5, random_state=0)\n",
    "  svm.fit(f, l)\n",
    "  gamma = 1 / torch.linalg.vector_norm(torch.from_numpy(svm.coef_)).item()\n",
    "  print(\"gamma: \", gamma)\n",
    "\n",
    "  print(\"Bound: \", 4*(R**2)/(gamma**2))"
   ]
  },
  {
   "cell_type": "code",
   "execution_count": 11,
   "metadata": {},
   "outputs": [
    {
     "name": "stdout",
     "output_type": "stream",
     "text": [
      "Max adjustments required for perceptron convergence:  128\n"
     ]
    }
   ],
   "source": [
    "# narrow margin\n",
    "\n",
    "ks = []\n",
    "for _ in range(250):\n",
    "  ks.append(perceptron(x, y)[1])\n",
    "\n",
    "print(\"Max adjustments required for perceptron convergence: \", max(ks))"
   ]
  },
  {
   "cell_type": "code",
   "execution_count": 12,
   "metadata": {},
   "outputs": [
    {
     "name": "stdout",
     "output_type": "stream",
     "text": [
      "Max adjustments required for perceptron convergence:  31\n"
     ]
    }
   ],
   "source": [
    "# wide margin\n",
    "\n",
    "ks = []\n",
    "for _ in range(250):\n",
    "  ks.append(perceptron(x1, y1)[1])\n",
    "\n",
    "print(\"Max adjustments required for perceptron convergence: \", max(ks))"
   ]
  },
  {
   "cell_type": "markdown",
   "metadata": {},
   "source": [
    "#### MNIST"
   ]
  },
  {
   "cell_type": "code",
   "execution_count": 17,
   "metadata": {},
   "outputs": [],
   "source": [
    "import torchvision\n",
    "import matplotlib.pyplot as plt"
   ]
  },
  {
   "cell_type": "code",
   "execution_count": null,
   "metadata": {},
   "outputs": [],
   "source": [
    "mnist = torchvision.datasets.MNIST('./data', download=True)"
   ]
  },
  {
   "cell_type": "code",
   "execution_count": 20,
   "metadata": {},
   "outputs": [],
   "source": [
    "dx = mnist.data\n",
    "dy = mnist.targets"
   ]
  },
  {
   "cell_type": "code",
   "execution_count": 38,
   "metadata": {},
   "outputs": [
    {
     "data": {
      "text/plain": [
       "<matplotlib.image.AxesImage at 0x7fa77bc11310>"
      ]
     },
     "execution_count": 38,
     "metadata": {},
     "output_type": "execute_result"
    },
    {
     "data": {
      "image/png": "[encoded data removed]",
      "text/plain": [
       "<Figure size 640x480 with 1 Axes>"
      ]
     },
     "metadata": {},
     "output_type": "display_data"
    }
   ],
   "source": [
    "fig, ax = plt.subplots()\n",
    "ax.imshow(dx[33])"
   ]
  },
  {
   "cell_type": "code",
   "execution_count": 65,
   "metadata": {},
   "outputs": [],
   "source": [
    "# convert to 0 vs. 1 problem\n",
    "\n",
    "zero_one_ids = dy < 2\n",
    "nx = dx[zero_one_ids]\n",
    "ny = dy[zero_one_ids]\n",
    "ny[ny==0] = -1\n",
    "nx = nx.reshape((nx.shape[0], -1))"
   ]
  },
  {
   "cell_type": "code",
   "execution_count": 66,
   "metadata": {},
   "outputs": [
    {
     "data": {
      "text/plain": [
       "torch.Size([12665, 784])"
      ]
     },
     "execution_count": 66,
     "metadata": {},
     "output_type": "execute_result"
    }
   ],
   "source": [
    "nx.shape"
   ]
  },
  {
   "cell_type": "code",
   "execution_count": 85,
   "metadata": {},
   "outputs": [
    {
     "data": {
      "text/plain": [
       "torch.Size([12665, 785])"
      ]
     },
     "execution_count": 85,
     "metadata": {},
     "output_type": "execute_result"
    }
   ],
   "source": [
    "# add ones\n",
    "\n",
    "nx = torch.cat(( torch.ones((nx.shape[0], 1)), nx ), dim=1)\n",
    "nx.shape"
   ]
  },
  {
   "cell_type": "code",
   "execution_count": 80,
   "metadata": {},
   "outputs": [
    {
     "data": {
      "text/plain": [
       "torch.float64"
      ]
     },
     "execution_count": 80,
     "metadata": {},
     "output_type": "execute_result"
    }
   ],
   "source": [
    "nx = nx.to(dtype=float)\n",
    "nx.dtype"
   ]
  },
  {
   "cell_type": "code",
   "execution_count": 75,
   "metadata": {},
   "outputs": [],
   "source": [
    "fw, k = perceptron(nx.numpy(), ny)"
   ]
  },
  {
   "cell_type": "code",
   "execution_count": 79,
   "metadata": {},
   "outputs": [
    {
     "data": {
      "text/plain": [
       "(torch.Size([785]), 246)"
      ]
     },
     "execution_count": 79,
     "metadata": {},
     "output_type": "execute_result"
    }
   ],
   "source": [
    "fw.shape, k"
   ]
  },
  {
   "cell_type": "code",
   "execution_count": 87,
   "metadata": {},
   "outputs": [
    {
     "data": {
      "text/plain": [
       "torch.Size([12665, 1])"
      ]
     },
     "execution_count": 87,
     "metadata": {},
     "output_type": "execute_result"
    }
   ],
   "source": [
    "# accuracy on the training data\n",
    "\n",
    "fw = fw.reshape((fw.numel(), 1))\n",
    "preds = torch.matmul(nx, fw)\n",
    "preds.shape"
   ]
  },
  {
   "cell_type": "code",
   "execution_count": 94,
   "metadata": {},
   "outputs": [
    {
     "data": {
      "text/plain": [
       "torch.Size([12665])"
      ]
     },
     "execution_count": 94,
     "metadata": {},
     "output_type": "execute_result"
    }
   ],
   "source": [
    "preds = preds.reshape((ny.shape[0], ))\n",
    "preds.shape"
   ]
  },
  {
   "cell_type": "code",
   "execution_count": 99,
   "metadata": {},
   "outputs": [
    {
     "data": {
      "text/plain": [
       "tensor([-1.,  1.], dtype=torch.float64)"
      ]
     },
     "execution_count": 99,
     "metadata": {},
     "output_type": "execute_result"
    }
   ],
   "source": [
    "preds[preds < 0] = -1\n",
    "preds[preds > 0] = 1\n",
    "preds.unique()"
   ]
  },
  {
   "cell_type": "code",
   "execution_count": 100,
   "metadata": {},
   "outputs": [
    {
     "data": {
      "text/plain": [
       "1.0"
      ]
     },
     "execution_count": 100,
     "metadata": {},
     "output_type": "execute_result"
    }
   ],
   "source": [
    "from sklearn.metrics import accuracy_score\n",
    "\n",
    "accuracy_score(ny.numpy(), preds.numpy())"
   ]
  },
  {
   "cell_type": "code",
   "execution_count": 139,
   "metadata": {},
   "outputs": [],
   "source": [
    "# now trying the weights from perceptron on test data\n",
    "\n",
    "# load test data\n",
    "mnist_test = torchvision.datasets.MNIST('./data', train=False, download=True)\n",
    "x_test = mnist_test.data\n",
    "y_test = mnist_test.targets"
   ]
  },
  {
   "cell_type": "code",
   "execution_count": 140,
   "metadata": {},
   "outputs": [
    {
     "data": {
      "text/plain": [
       "(torch.Size([60000, 28, 28]), torch.Size([60000]))"
      ]
     },
     "execution_count": 140,
     "metadata": {},
     "output_type": "execute_result"
    }
   ],
   "source": [
    "dx.shape, dy.shape"
   ]
  },
  {
   "cell_type": "code",
   "execution_count": 141,
   "metadata": {},
   "outputs": [],
   "source": [
    "zero_one_ids_test = y_test < 2\n",
    "dx_test = x_test[zero_one_ids_test]\n",
    "dy_test = y_test[zero_one_ids_test]\n",
    "dy_test[dy_test==0] = -1"
   ]
  },
  {
   "cell_type": "code",
   "execution_count": 142,
   "metadata": {},
   "outputs": [
    {
     "data": {
      "text/plain": [
       "tensor(2115)"
      ]
     },
     "execution_count": 142,
     "metadata": {},
     "output_type": "execute_result"
    }
   ],
   "source": [
    "# test set length\n",
    "sum(zero_one_ids_test)"
   ]
  },
  {
   "cell_type": "code",
   "execution_count": 143,
   "metadata": {},
   "outputs": [
    {
     "name": "stdout",
     "output_type": "stream",
     "text": [
      "torch.Size([2115, 784])\n"
     ]
    },
    {
     "data": {
      "text/plain": [
       "torch.Size([2115, 785])"
      ]
     },
     "execution_count": 143,
     "metadata": {},
     "output_type": "execute_result"
    }
   ],
   "source": [
    "dx_test = dx_test.reshape((dx_test.shape[0], -1))\n",
    "print(dx_test.shape)\n",
    "dx_test = torch.cat( (torch.ones((dx_test.shape[0], 1)), dx_test), dim=1)\n",
    "dx_test.shape"
   ]
  },
  {
   "cell_type": "code",
   "execution_count": 144,
   "metadata": {},
   "outputs": [
    {
     "data": {
      "text/plain": [
       "torch.float64"
      ]
     },
     "execution_count": 144,
     "metadata": {},
     "output_type": "execute_result"
    }
   ],
   "source": [
    "dx_test = dx_test.to(dtype=float)\n",
    "dx_test.dtype"
   ]
  },
  {
   "cell_type": "code",
   "execution_count": 145,
   "metadata": {},
   "outputs": [
    {
     "data": {
      "text/plain": [
       "torch.Size([2115])"
      ]
     },
     "execution_count": 145,
     "metadata": {},
     "output_type": "execute_result"
    }
   ],
   "source": [
    "# check the classification error on test data\n",
    "\n",
    "preds_test = torch.matmul(dx_test, fw)\n",
    "preds_test = preds_test.reshape((preds_test.shape[0], ))\n",
    "preds_test.shape"
   ]
  },
  {
   "cell_type": "code",
   "execution_count": 146,
   "metadata": {},
   "outputs": [
    {
     "data": {
      "text/plain": [
       "tensor([-1.,  1.], dtype=torch.float64)"
      ]
     },
     "execution_count": 146,
     "metadata": {},
     "output_type": "execute_result"
    }
   ],
   "source": [
    "preds_test[preds_test < 0] = -1\n",
    "preds_test[preds_test > 0] = 1\n",
    "preds_test.unique()"
   ]
  },
  {
   "cell_type": "code",
   "execution_count": 147,
   "metadata": {},
   "outputs": [
    {
     "data": {
      "text/plain": [
       "0.9990543735224586"
      ]
     },
     "execution_count": 147,
     "metadata": {},
     "output_type": "execute_result"
    }
   ],
   "source": [
    "accuracy_score(dy_test.numpy(), preds_test.numpy())"
   ]
  },
  {
   "cell_type": "code",
   "execution_count": 149,
   "metadata": {},
   "outputs": [
    {
     "data": {
      "image/png": "[encoded data removed]",
      "text/plain": [
       "<Figure size 640x480 with 1 Axes>"
      ]
     },
     "metadata": {},
     "output_type": "display_data"
    },
    {
     "data": {
      "image/png": "[encoded data removed]",
      "text/plain": [
       "<Figure size 640x480 with 1 Axes>"
      ]
     },
     "metadata": {},
     "output_type": "display_data"
    }
   ],
   "source": [
    "# show the misclassified instances\n",
    "\n",
    "errors = dy_test * preds_test < 0\n",
    "error_ids = []\n",
    "for i, ele in enumerate(errors):\n",
    "    if ele:\n",
    "        error_ids.append(i)\n",
    "\n",
    "for i in error_ids:\n",
    "    fig, ax = plt.subplots()\n",
    "    ax.imshow(x_test[i])"
   ]
  }
 ],
 "metadata": {
  "kernelspec": {
   "display_name": "deepl",
   "language": "python",
   "name": "python3"
  },
  "language_info": {
   "codemirror_mode": {
    "name": "ipython",
    "version": 3
   },
   "file_extension": ".py",
   "mimetype": "text/x-python",
   "name": "python",
   "nbconvert_exporter": "python",
   "pygments_lexer": "ipython3",
   "version": "3.9.19"
  }
 },
 "nbformat": 4,
 "nbformat_minor": 2
}
