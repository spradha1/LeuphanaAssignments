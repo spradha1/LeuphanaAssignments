{
 "cells": [
  {
   "cell_type": "markdown",
   "metadata": {},
   "source": [
    "## Neural Network"
   ]
  },
  {
   "cell_type": "code",
   "execution_count": 202,
   "metadata": {},
   "outputs": [],
   "source": [
    "import torch\n",
    "import torch.nn as nn\n",
    "from sklearn.datasets import make_blobs\n",
    "\n",
    "import numpy as np\n",
    "import matplotlib.pylab as plt"
   ]
  },
  {
   "cell_type": "code",
   "execution_count": 170,
   "metadata": {},
   "outputs": [],
   "source": [
    "# ReLU\n",
    "\n",
    "class Relu:\n",
    "\n",
    "  def evaluate(self, x):\n",
    "    return nn.ReLU(x)\n",
    "  \n",
    "  def gradient(self, x):\n",
    "    return x.apply_(lambda t: 1 if t > 0 else 0)\n"
   ]
  },
  {
   "cell_type": "code",
   "execution_count": 171,
   "metadata": {},
   "outputs": [],
   "source": [
    "# sigmoid\n",
    "\n",
    "class Sigmoid:\n",
    "\n",
    "  def evaluate(self, x):\n",
    "    return torch.sigmoid(x)\n",
    "  \n",
    "  def gradient(self, x):\n",
    "    return torch.sigmoid(x) * (torch.ones_like(x) - torch.sigmoid(x))"
   ]
  },
  {
   "cell_type": "code",
   "execution_count": 172,
   "metadata": {},
   "outputs": [],
   "source": [
    "\"\"\"\n",
    "  # The NeuralNetwork class is supposed to work as follows.\n",
    "  # We can define a network, i.e., with 2 input, 3 hidden, and 1 output neurons as\n",
    "  net = NeuralNetwork([2,3,1])\n",
    "  # A forward pass (prediction) can be computed using\n",
    "  net.forward(x)\n",
    "  # and the gradients of all parameters can be obtained via\n",
    "  net.backprop(x, y)\n",
    "  # Finally, the network can be trained by calling\n",
    "  net.train(x, y)\n",
    "  # Other activation functions can be provided when creating the object:\n",
    "  net = NeuralNetwork([2,3,1], activations=[ReLU(), ReLU(), sigmoid()])\n",
    "\"\"\"\n",
    "\n",
    "class NeuralNetwork:\n",
    "  \n",
    "  def __init__(self, neurons_per_layer, activations=None):\n",
    "    # neurons per layer (incl. input and output)\n",
    "    self.neurons_per_layer = np.array(neurons_per_layer)\n",
    "    # list holding the weight matrices\n",
    "    self.weight = []\n",
    "    # list holding the bias vectors\n",
    "    self.bias = []\n",
    "    # list holding the activation functions\n",
    "    self.activation = []\n",
    "    # intermediate states of s(they get set by each forward pass)\n",
    "    self._s = []\n",
    "    # intermediate states of x(they get set by each forward pass)\n",
    "    self._x = []\n",
    "\n",
    "    for d_in, d_out in zip(neurons_per_layer[:-1], neurons_per_layer[1:]):\n",
    "      \n",
    "      # initializing the weights through a normal distribution\n",
    "      self.weight.append( torch.normal(mean=0, std=np.sqrt(2/(d_in + d_out)), size=(d_out, d_in) ) )\n",
    "      # initializing biases as zero\n",
    "      self.bias.append( torch.zeros((d_out, 1)) )\n",
    "\n",
    "    for d in neurons_per_layer[1:]:\n",
    "      self._s.append(np.zeros((d,1)))\n",
    "    for d in neurons_per_layer:\n",
    "      self._x.append(np.zeros((d,1)))\n",
    "\n",
    "    if activations==None:\n",
    "      # if no activations list is given, use sigmoid() as default\n",
    "      for _ in range(len(neurons_per_layer)-1):\n",
    "        self.activation.append(Sigmoid())\n",
    "    else:\n",
    "      self.activation = activations\n",
    "\n",
    "\n",
    "  def forward(self, x):\n",
    "    self._x[0] = x\n",
    "    for i in range(len(self.neurons_per_layer) - 1):\n",
    "      self._s[i] = torch.matmul(self.weight[i], self._x[i]) + self.bias[i]\n",
    "      self._x[i+1] = self.activation[i].evaluate(self._s[i])\n",
    "    # also set the intermediate states _x and _s\n",
    "    return self._x[-1]\n",
    "\n",
    "\n",
    "  def mean_squared_loss(self, y_prediction, y):\n",
    "    return torch.mean(torch.square(y_prediction - y))\n",
    "\n",
    "\n",
    "  # x and y being the inputs and expected outputs\n",
    "  # return gradients of weight and bias variables\n",
    "  def backprop(self, x, y):\n",
    "\n",
    "    # forward pass\n",
    "    xl = self.forward(x)\n",
    "    # gradients for w, b & s (same), and x\n",
    "    wgs, bgs, xgs = [], [], []\n",
    "\n",
    "    # derivative of sqaured loss function\n",
    "    xgs.append( torch.mean(2 * (xl - y), dim=1, keepdim=True) )\n",
    "\n",
    "    # average out all the s & x values for from forward pass for gradient calculation\n",
    "    for i in range(len(self._s)):\n",
    "      self._s[i] = torch.mean(self._s[i], dim=1, keepdim=True)\n",
    "\n",
    "    for i in range(len(self._x)):\n",
    "      self._x[i] = torch.mean(self._x[i], dim=1, keepdim=True)\n",
    "\n",
    "    # beginning from the final layer\n",
    "    n = len(self.neurons_per_layer)\n",
    "    for i in range(n - 1):\n",
    "      act_func = self.activation[n-i-2]\n",
    "      bgs.append(xgs[i] * act_func.gradient(self._s[n-i-2]))\n",
    "      wgs.append(torch.matmul(bgs[i], self._x[n-i-2].T))\n",
    "      xgs.append(torch.matmul(self.weight[n-i-2].T, bgs[i]))\n",
    "\n",
    "    wgs.reverse()\n",
    "    bgs.reverse()\n",
    "    return wgs, bgs\n",
    "\n",
    "\n",
    "  # x and y being the inputs and expected outputs\n",
    "  # return final weights and biases\n",
    "  def train(self, x, y, eta=.01, max_iter=100, batch_size=50):\n",
    "\n",
    "    obs = x.shape[0] # of data observations\n",
    "    trained = 0\n",
    "    iter = 0\n",
    "    log_iter = max_iter // 20\n",
    "\n",
    "    while iter < max_iter:\n",
    "      # random batch draw\n",
    "      batch_idxs = torch.randint(high=obs, size=(batch_size, ))\n",
    "      # backpropagation\n",
    "      wgs, bgs = self.backprop(x[batch_idxs].T, y[batch_idxs].T)\n",
    "      \n",
    "      for j in range(len(self.weight)):\n",
    "        self.weight[j] -= eta * wgs[j]\n",
    "        self.bias[j] -= eta * bgs[j]\n",
    "      \n",
    "      # loss\n",
    "      loss = self.mean_squared_loss(self.forward(x[batch_idxs].T), y[batch_idxs].T)\n",
    "      trained += batch_size\n",
    "      iter += 1\n",
    "      if iter % log_iter == 0 or iter >= max_iter:\n",
    "        print(f\"Observations: {trained}, loss: {loss}\")\n",
    "\n",
    "    return wgs, bgs"
   ]
  },
  {
   "cell_type": "code",
   "execution_count": 173,
   "metadata": {},
   "outputs": [
    {
     "data": {
      "text/plain": [
       "(tensor([[-0.1000],\n",
       "         [-2.4000],\n",
       "         [ 2.2000]]),\n",
       " tensor([[0.4750],\n",
       "         [0.0832],\n",
       "         [0.9002]]),\n",
       " tensor([[-0.2133],\n",
       "         [ 1.0226]]),\n",
       " tensor([[0.4469],\n",
       "         [0.7355]]))"
      ]
     },
     "execution_count": 173,
     "metadata": {},
     "output_type": "execute_result"
    }
   ],
   "source": [
    "# Run NN\n",
    "\n",
    "net = NeuralNetwork([2,3,2])\n",
    "\n",
    "# set the weights and biases\n",
    "net.weight[0] = torch.tensor([[.2, -.3], [.1, -1.2], [.4, .3]])\n",
    "net.bias[0] = torch.tensor([[.3], [-.1], [1.2]])\n",
    "net.weight[1] = torch.tensor([[0.4, 0.2, 0.2], [0.1, 0.3, 0.5]])\n",
    "net.bias[1] = torch.tensor([[-.6], [.5]])\n",
    "\n",
    "# set the input\n",
    "x0 = torch.tensor([[1.], [2.]])\n",
    "# compute the forward pass\n",
    "net.forward(x0)\n",
    "# compare the intermediate states\n",
    "net._s[0], net._x[1], net._s[1], net._x[2]"
   ]
  },
  {
   "cell_type": "code",
   "execution_count": 174,
   "metadata": {},
   "outputs": [
    {
     "data": {
      "text/plain": [
       "(tensor([[ 0.0195,  0.0389],\n",
       "         [ 0.0010,  0.0020],\n",
       "         [-0.0007, -0.0013]]),\n",
       " tensor([[ 0.0195],\n",
       "         [ 0.0010],\n",
       "         [-0.0007]]),\n",
       " tensor([[ 0.1049,  0.0184,  0.1989],\n",
       "         [-0.0489, -0.0086, -0.0927]]),\n",
       " tensor([[ 0.2209],\n",
       "         [-0.1029]]))"
      ]
     },
     "execution_count": 174,
     "metadata": {},
     "output_type": "execute_result"
    }
   ],
   "source": [
    "# compute backpropagation differentials\n",
    "\n",
    "y = torch.tensor([[0.], [1.]])\n",
    "wgs, bgs = net.backprop(x0, y)\n",
    "wgs[0], bgs[0], wgs[1], bgs[1]"
   ]
  },
  {
   "cell_type": "code",
   "execution_count": 175,
   "metadata": {},
   "outputs": [
    {
     "data": {
      "text/plain": [
       "(torch.Size([10000, 4]),\n",
       " torch.Size([10000, 1]),\n",
       " tensor([-6.7942, -9.7594, -6.8150, -2.3030]),\n",
       " tensor([[1],\n",
       "         [0],\n",
       "         [0],\n",
       "         [1]]))"
      ]
     },
     "execution_count": 175,
     "metadata": {},
     "output_type": "execute_result"
    }
   ],
   "source": [
    "# training with toy dataset\n",
    "\n",
    "rx, ry = make_blobs(n_samples=10000, centers=2, n_features=4, random_state=1)\n",
    "rx = torch.from_numpy(rx).type(torch.FloatTensor)\n",
    "ry = torch.from_numpy(ry).reshape((-1, 1))\n",
    "rx.shape, ry.shape, rx[0], ry[:4]"
   ]
  },
  {
   "cell_type": "code",
   "execution_count": 176,
   "metadata": {},
   "outputs": [
    {
     "name": "stdout",
     "output_type": "stream",
     "text": [
      "Observations: 25600, loss: 0.2671912610530853\n",
      "Observations: 51200, loss: 0.25937268137931824\n",
      "Observations: 76800, loss: 0.26260116696357727\n",
      "Observations: 102400, loss: 0.2608714997768402\n",
      "Observations: 128000, loss: 0.25648459792137146\n",
      "Observations: 153600, loss: 0.2538619637489319\n",
      "Observations: 179200, loss: 0.26227229833602905\n",
      "Observations: 204800, loss: 0.25651103258132935\n",
      "Observations: 230400, loss: 0.25910815596580505\n",
      "Observations: 256000, loss: 0.2529973089694977\n",
      "Observations: 281600, loss: 0.2589014768600464\n",
      "Observations: 307200, loss: 0.26020780205726624\n",
      "Observations: 332800, loss: 0.256300687789917\n",
      "Observations: 358400, loss: 0.2510022222995758\n",
      "Observations: 384000, loss: 0.25515449047088623\n",
      "Observations: 409600, loss: 0.2521864175796509\n",
      "Observations: 435200, loss: 0.252912700176239\n",
      "Observations: 460800, loss: 0.25295737385749817\n",
      "Observations: 486400, loss: 0.25098085403442383\n",
      "Observations: 512000, loss: 0.2532513737678528\n",
      "Final weights: [tensor([[-4.6129e-05, -2.1472e-05, -8.4204e-05, -3.6119e-05],\n",
      "        [ 1.2854e-04,  5.9834e-05,  2.3464e-04,  1.0065e-04],\n",
      "        [-3.7639e-04, -1.7520e-04, -6.8706e-04, -2.9471e-04]]), tensor([[-0.0263, -0.0004, -0.0003]])]\n",
      "Final biases: [tensor([[ 1.0413e-05],\n",
      "        [-2.9018e-05],\n",
      "        [ 8.4969e-05]]), tensor([[-0.0265]])]\n"
     ]
    }
   ],
   "source": [
    "rnet = NeuralNetwork(neurons_per_layer=[4, 3, 1])\n",
    "fws, fbs = rnet.train(rx, ry, eta=0.005, max_iter=1000, batch_size=512)\n",
    "print(f\"Final weights: {fws}\\nFinal biases: {fbs}\")"
   ]
  },
  {
   "cell_type": "markdown",
   "metadata": {},
   "source": [
    "### MNIST"
   ]
  },
  {
   "cell_type": "code",
   "execution_count": 177,
   "metadata": {},
   "outputs": [],
   "source": [
    "import torchvision"
   ]
  },
  {
   "cell_type": "code",
   "execution_count": 178,
   "metadata": {},
   "outputs": [],
   "source": [
    "mnist = torchvision.datasets.MNIST('./data', download=True)\n",
    "dx = mnist.data\n",
    "dy = mnist.targets"
   ]
  },
  {
   "cell_type": "code",
   "execution_count": 179,
   "metadata": {},
   "outputs": [
    {
     "data": {
      "text/plain": [
       "(torch.Size([60000, 28, 28]),\n",
       " torch.Size([60000]),\n",
       " torch.Size([11867, 784]),\n",
       " torch.Size([11867]))"
      ]
     },
     "execution_count": 179,
     "metadata": {},
     "output_type": "execute_result"
    }
   ],
   "source": [
    "# convert to 6 vs. 9 problem\n",
    "\n",
    "ids6n9 = ((dy == 6) | (dy == 9))\n",
    "nx = dx[ids6n9]\n",
    "ny = dy[ids6n9]\n",
    "ny[ny==6] = 0\n",
    "ny[ny==9] = 1\n",
    "nx = nx.reshape((nx.shape[0], -1))\n",
    "\n",
    "nx = nx.type(torch.FloatTensor)\n",
    "ny = ny.type(torch.FloatTensor)\n",
    "\n",
    "dx.shape, dy.shape, nx.shape, ny.shape"
   ]
  },
  {
   "cell_type": "code",
   "execution_count": 199,
   "metadata": {},
   "outputs": [
    {
     "name": "stdout",
     "output_type": "stream",
     "text": [
      "Observations: 128000, loss: 0.24158532917499542\n",
      "Observations: 256000, loss: 0.23099613189697266\n",
      "Observations: 384000, loss: 0.2303016185760498\n",
      "Observations: 512000, loss: 0.23186351358890533\n",
      "Observations: 640000, loss: 0.2411385327577591\n",
      "Observations: 768000, loss: 0.24139247834682465\n",
      "Observations: 896000, loss: 0.23022334277629852\n",
      "Observations: 1024000, loss: 0.23070012032985687\n",
      "Observations: 1152000, loss: 0.2264096736907959\n",
      "Observations: 1280000, loss: 0.22868169844150543\n",
      "Observations: 1408000, loss: 0.22553658485412598\n",
      "Observations: 1536000, loss: 0.2384493201971054\n",
      "Observations: 1664000, loss: 0.2298441082239151\n",
      "Observations: 1792000, loss: 0.2305794656276703\n",
      "Observations: 1920000, loss: 0.23551364243030548\n",
      "Observations: 2048000, loss: 0.2300243377685547\n",
      "Observations: 2176000, loss: 0.22692839801311493\n",
      "Observations: 2304000, loss: 0.22911150753498077\n",
      "Observations: 2432000, loss: 0.22259360551834106\n",
      "Observations: 2560000, loss: 0.22637367248535156\n",
      "Final weights: [tensor([[0., 0., 0.,  ..., 0., 0., 0.],\n",
      "        [0., 0., 0.,  ..., 0., 0., 0.],\n",
      "        [-0., -0., -0.,  ..., -0., -0., -0.],\n",
      "        ...,\n",
      "        [0., 0., 0.,  ..., 0., 0., 0.],\n",
      "        [-0., -0., -0.,  ..., -0., -0., -0.],\n",
      "        [0., 0., 0.,  ..., 0., 0., 0.]]), tensor([[0.0024, 0.0059, 0.0054, 0.0033, 0.0083, 0.0047, 0.0048, 0.0006, 0.0063,\n",
      "         0.0042, 0.0063, 0.0036, 0.0037, 0.0035, 0.0005, 0.0051, 0.0066, 0.0052,\n",
      "         0.0014, 0.0058, 0.0074, 0.0064, 0.0026, 0.0063, 0.0054, 0.0033, 0.0038,\n",
      "         0.0031, 0.0052, 0.0077, 0.0081, 0.0065, 0.0042, 0.0033, 0.0011, 0.0001,\n",
      "         0.0078, 0.0029, 0.0006, 0.0043, 0.0078, 0.0033, 0.0014, 0.0061, 0.0035,\n",
      "         0.0012, 0.0081, 0.0013, 0.0043, 0.0022, 0.0029, 0.0032, 0.0003, 0.0070,\n",
      "         0.0035, 0.0057, 0.0065, 0.0080, 0.0071, 0.0083, 0.0047, 0.0015, 0.0049,\n",
      "         0.0061, 0.0033, 0.0023, 0.0054, 0.0052, 0.0030, 0.0038, 0.0029, 0.0055,\n",
      "         0.0026, 0.0017, 0.0068, 0.0060, 0.0042, 0.0057, 0.0065, 0.0036, 0.0047,\n",
      "         0.0051, 0.0052, 0.0082, 0.0020, 0.0074, 0.0005, 0.0048, 0.0044, 0.0029,\n",
      "         0.0065, 0.0057, 0.0020, 0.0065, 0.0061, 0.0061, 0.0030, 0.0011, 0.0044,\n",
      "         0.0036, 0.0075, 0.0020, 0.0047, 0.0031, 0.0074, 0.0032, 0.0005, 0.0027,\n",
      "         0.0042, 0.0010, 0.0076, 0.0065, 0.0016, 0.0050, 0.0006, 0.0041, 0.0022,\n",
      "         0.0057, 0.0047, 0.0019, 0.0068, 0.0048, 0.0077, 0.0075, 0.0002, 0.0003,\n",
      "         0.0073, 0.0041, 0.0031, 0.0059, 0.0035, 0.0040, 0.0017, 0.0047, 0.0078,\n",
      "         0.0069, 0.0071, 0.0037, 0.0042, 0.0013, 0.0061, 0.0046, 0.0058, 0.0042,\n",
      "         0.0044, 0.0005, 0.0065, 0.0056, 0.0020, 0.0015, 0.0018, 0.0033, 0.0029,\n",
      "         0.0033, 0.0008, 0.0059, 0.0036, 0.0021, 0.0058, 0.0051, 0.0058, 0.0006,\n",
      "         0.0056, 0.0070, 0.0064, 0.0083, 0.0077, 0.0010, 0.0006, 0.0027, 0.0021,\n",
      "         0.0022, 0.0071, 0.0054, 0.0061, 0.0066, 0.0039, 0.0051, 0.0074, 0.0071,\n",
      "         0.0047, 0.0079, 0.0021, 0.0047, 0.0041, 0.0053, 0.0027, 0.0048, 0.0083,\n",
      "         0.0065, 0.0080, 0.0016, 0.0046, 0.0009, 0.0080, 0.0054]])]\n",
      "Final biases: [tensor([[ 9.4944e-20],\n",
      "        [ 0.0000e+00],\n",
      "        [-0.0000e+00],\n",
      "        [-9.7420e-11],\n",
      "        [ 0.0000e+00],\n",
      "        [ 3.2255e-08],\n",
      "        [ 0.0000e+00],\n",
      "        [ 0.0000e+00],\n",
      "        [-0.0000e+00],\n",
      "        [-2.9002e-06],\n",
      "        [-0.0000e+00],\n",
      "        [-4.6009e-15],\n",
      "        [ 2.6623e-08],\n",
      "        [ 1.3218e-11],\n",
      "        [ 0.0000e+00],\n",
      "        [ 3.6769e-10],\n",
      "        [ 0.0000e+00],\n",
      "        [ 0.0000e+00],\n",
      "        [-3.1093e-30],\n",
      "        [-0.0000e+00],\n",
      "        [-0.0000e+00],\n",
      "        [ 0.0000e+00],\n",
      "        [ 2.4784e-18],\n",
      "        [ 0.0000e+00],\n",
      "        [ 0.0000e+00],\n",
      "        [-1.1117e-14],\n",
      "        [-1.7333e-04],\n",
      "        [ 6.6797e-12],\n",
      "        [ 0.0000e+00],\n",
      "        [-0.0000e+00],\n",
      "        [-0.0000e+00],\n",
      "        [ 0.0000e+00],\n",
      "        [-1.8895e-05],\n",
      "        [ 5.9908e-17],\n",
      "        [-0.0000e+00],\n",
      "        [-0.0000e+00],\n",
      "        [ 0.0000e+00],\n",
      "        [-8.3694e-23],\n",
      "        [ 0.0000e+00],\n",
      "        [-5.2581e-12],\n",
      "        [ 0.0000e+00],\n",
      "        [-1.3682e-12],\n",
      "        [-3.1503e-32],\n",
      "        [-0.0000e+00],\n",
      "        [-1.8864e-12],\n",
      "        [ 8.4118e-38],\n",
      "        [ 0.0000e+00],\n",
      "        [ 0.0000e+00],\n",
      "        [-0.0000e+00],\n",
      "        [ 4.3321e-35],\n",
      "        [-6.5759e-20],\n",
      "        [ 1.2093e-12],\n",
      "        [ 0.0000e+00],\n",
      "        [-0.0000e+00],\n",
      "        [ 4.0401e-14],\n",
      "        [ 0.0000e+00],\n",
      "        [ 0.0000e+00],\n",
      "        [ 0.0000e+00],\n",
      "        [-0.0000e+00],\n",
      "        [-0.0000e+00],\n",
      "        [ 0.0000e+00],\n",
      "        [-5.4924e-39],\n",
      "        [ 1.4170e-10],\n",
      "        [ 0.0000e+00],\n",
      "        [-4.4867e-14],\n",
      "        [ 3.5075e-32],\n",
      "        [-0.0000e+00],\n",
      "        [-0.0000e+00],\n",
      "        [-1.2411e-17],\n",
      "        [ 4.0330e-11],\n",
      "        [ 1.7080e-18],\n",
      "        [-0.0000e+00],\n",
      "        [ 3.7862e-17],\n",
      "        [-1.3950e-28],\n",
      "        [ 0.0000e+00],\n",
      "        [ 0.0000e+00],\n",
      "        [-1.7922e-05],\n",
      "        [ 0.0000e+00],\n",
      "        [ 0.0000e+00],\n",
      "        [ 5.1652e-14],\n",
      "        [-1.0436e-08],\n",
      "        [ 6.9060e-11],\n",
      "        [-0.0000e+00],\n",
      "        [-0.0000e+00],\n",
      "        [ 6.4531e-28],\n",
      "        [ 0.0000e+00],\n",
      "        [ 7.1102e-42],\n",
      "        [-2.9655e-11],\n",
      "        [ 4.7111e-06],\n",
      "        [ 7.0331e-16],\n",
      "        [ 0.0000e+00],\n",
      "        [ 0.0000e+00],\n",
      "        [-8.4681e-26],\n",
      "        [ 0.0000e+00],\n",
      "        [-0.0000e+00],\n",
      "        [-0.0000e+00],\n",
      "        [-8.7006e-17],\n",
      "        [-4.7573e-37],\n",
      "        [ 1.9462e-06],\n",
      "        [-2.7255e-09],\n",
      "        [-0.0000e+00],\n",
      "        [ 7.1751e-24],\n",
      "        [ 5.0301e-09],\n",
      "        [-2.7478e-19],\n",
      "        [ 0.0000e+00],\n",
      "        [-3.5597e-12],\n",
      "        [ 0.0000e+00],\n",
      "        [-7.1371e-19],\n",
      "        [ 7.0564e-05],\n",
      "        [ 0.0000e+00],\n",
      "        [ 0.0000e+00],\n",
      "        [ 0.0000e+00],\n",
      "        [-1.8931e-35],\n",
      "        [ 0.0000e+00],\n",
      "        [ 0.0000e+00],\n",
      "        [-4.2818e-07],\n",
      "        [ 1.4667e-20],\n",
      "        [ 0.0000e+00],\n",
      "        [ 2.2062e-09],\n",
      "        [-1.2486e-31],\n",
      "        [ 0.0000e+00],\n",
      "        [ 1.2823e-10],\n",
      "        [ 0.0000e+00],\n",
      "        [ 0.0000e+00],\n",
      "        [ 0.0000e+00],\n",
      "        [ 0.0000e+00],\n",
      "        [ 0.0000e+00],\n",
      "        [-2.3289e-05],\n",
      "        [-1.0014e-15],\n",
      "        [-0.0000e+00],\n",
      "        [-2.5882e-07],\n",
      "        [-2.0890e-04],\n",
      "        [ 7.9675e-27],\n",
      "        [ 1.1509e-07],\n",
      "        [ 0.0000e+00],\n",
      "        [-0.0000e+00],\n",
      "        [ 0.0000e+00],\n",
      "        [ 1.6385e-13],\n",
      "        [-2.5796e-05],\n",
      "        [ 3.1720e-36],\n",
      "        [ 0.0000e+00],\n",
      "        [ 3.0703e-09],\n",
      "        [-0.0000e+00],\n",
      "        [-2.7218e-04],\n",
      "        [ 3.5299e-10],\n",
      "        [-0.0000e+00],\n",
      "        [-0.0000e+00],\n",
      "        [-0.0000e+00],\n",
      "        [-9.1003e-23],\n",
      "        [-7.1711e-33],\n",
      "        [-2.8494e-34],\n",
      "        [-6.8839e-11],\n",
      "        [ 4.0927e-20],\n",
      "        [-7.6004e-10],\n",
      "        [ 0.0000e+00],\n",
      "        [ 0.0000e+00],\n",
      "        [-4.6718e-11],\n",
      "        [-1.4233e-23],\n",
      "        [ 0.0000e+00],\n",
      "        [ 0.0000e+00],\n",
      "        [ 0.0000e+00],\n",
      "        [-0.0000e+00],\n",
      "        [ 0.0000e+00],\n",
      "        [-0.0000e+00],\n",
      "        [-0.0000e+00],\n",
      "        [ 0.0000e+00],\n",
      "        [-0.0000e+00],\n",
      "        [-5.9547e-38],\n",
      "        [-0.0000e+00],\n",
      "        [-3.0849e-19],\n",
      "        [-3.0137e-28],\n",
      "        [-2.0016e-22],\n",
      "        [-0.0000e+00],\n",
      "        [ 0.0000e+00],\n",
      "        [ 0.0000e+00],\n",
      "        [ 0.0000e+00],\n",
      "        [ 1.0695e-09],\n",
      "        [ 0.0000e+00],\n",
      "        [-0.0000e+00],\n",
      "        [-0.0000e+00],\n",
      "        [ 6.4025e-08],\n",
      "        [-0.0000e+00],\n",
      "        [ 2.3996e-27],\n",
      "        [ 1.1538e-08],\n",
      "        [ 2.9592e-05],\n",
      "        [-0.0000e+00],\n",
      "        [ 4.6838e-16],\n",
      "        [ 2.1456e-09],\n",
      "        [-0.0000e+00],\n",
      "        [ 0.0000e+00],\n",
      "        [-0.0000e+00],\n",
      "        [-2.2793e-30],\n",
      "        [ 1.8950e-09],\n",
      "        [ 3.9881e-42],\n",
      "        [-0.0000e+00],\n",
      "        [ 0.0000e+00]]), tensor([[0.0084]])]\n"
     ]
    }
   ],
   "source": [
    "# neural network train & test\n",
    "\n",
    "net6n9 = NeuralNetwork([784, 196, 1])\n",
    "w6n9, b6n9 = net6n9.train(nx, ny, eta=5e-4, max_iter=5000, batch_size=512)\n",
    "print(f\"Final weights: {w6n9}\\nFinal biases: {b6n9}\")"
   ]
  },
  {
   "cell_type": "code",
   "execution_count": 200,
   "metadata": {},
   "outputs": [
    {
     "name": "stdout",
     "output_type": "stream",
     "text": [
      "torch.Size([11867]) tensor(0.0940) tensor(0.9007)\n"
     ]
    },
    {
     "data": {
      "text/plain": [
       "tensor([-1.,  1.])"
      ]
     },
     "execution_count": 200,
     "metadata": {},
     "output_type": "execute_result"
    }
   ],
   "source": [
    "# training accuracy\n",
    "\n",
    "preds = net6n9.forward(nx.T).reshape(-1)\n",
    "print(preds.shape, min(preds), max(preds))\n",
    "\n",
    "preds[preds <= 0.5] = -1\n",
    "preds[preds > 0.5] = 1\n",
    "preds.unique()"
   ]
  },
  {
   "cell_type": "code",
   "execution_count": 201,
   "metadata": {},
   "outputs": [
    {
     "data": {
      "text/plain": [
       "0.3134743406084099"
      ]
     },
     "execution_count": 201,
     "metadata": {},
     "output_type": "execute_result"
    }
   ],
   "source": [
    "from sklearn.metrics import accuracy_score\n",
    "\n",
    "accuracy_score(ny.numpy(), preds.numpy())"
   ]
  },
  {
   "cell_type": "markdown",
   "metadata": {},
   "source": [
    "## Approximation"
   ]
  },
  {
   "cell_type": "code",
   "execution_count": 576,
   "metadata": {},
   "outputs": [],
   "source": [
    "# we try to approximate the sine function\n",
    "def f(x):\n",
    "  return np.sin(x)"
   ]
  },
  {
   "cell_type": "code",
   "execution_count": 577,
   "metadata": {},
   "outputs": [
    {
     "data": {
      "text/plain": [
       "(array([0. , 1.5, 3. , 4.5, 6. ]),\n",
       " 1.5,\n",
       " [-1.5, 0.0, 1.5, 3.0, 4.5],\n",
       " [0.0,\n",
       "  0.9974949866040544,\n",
       "  0.1411200080598672,\n",
       "  -0.977530117665097,\n",
       "  -0.27941549819892586])"
      ]
     },
     "execution_count": 577,
     "metadata": {},
     "output_type": "execute_result"
    }
   ],
   "source": [
    "# number of functions\n",
    "n = 5\n",
    "# beginning the the interval\n",
    "a = 0\n",
    "# end the the interval\n",
    "b = 6\n",
    "# beginning the the interval\n",
    "x = np.linspace(a, b, n)\n",
    "# spacing\n",
    "h = x[1]-x[0]\n",
    "# biases\n",
    "b_ = [a + (j-2)*h for j in range(1, n+1)]\n",
    "# function values come from current and functions preceding it\n",
    "f_ = [f(xe) for xe in x]\n",
    "\n",
    "x, h, b_, f_"
   ]
  },
  {
   "cell_type": "code",
   "execution_count": 578,
   "metadata": {},
   "outputs": [
    {
     "data": {
      "text/plain": [
       "tensor([[1., 0., 0., 0., 0.],\n",
       "        [2., 1., 0., 0., 0.],\n",
       "        [3., 2., 1., 0., 0.],\n",
       "        [4., 3., 2., 1., 0.],\n",
       "        [5., 4., 3., 2., 1.]])"
      ]
     },
     "execution_count": 578,
     "metadata": {},
     "output_type": "execute_result"
    }
   ],
   "source": [
    "# matrix used in the linear system of equations\n",
    "cols = []\n",
    "for i in range(1, n):\n",
    "  t = torch.arange(start=1, end=i+1).reshape((i, 1))\n",
    "  t = torch.cat( (torch.zeros((n-i, 1)), t), dim=0 )\n",
    "  cols.insert(0, t)\n",
    "\n",
    "cols.insert(0, torch.arange(start=1, end=n+1).reshape((n, 1)))\n",
    "A = torch.cat(cols, dim=1)\n",
    "A"
   ]
  },
  {
   "cell_type": "code",
   "execution_count": 579,
   "metadata": {},
   "outputs": [
    {
     "data": {
      "text/plain": [
       "array([-2.66453526e-16,  9.97494987e-01, -1.85386997e+00, -2.62275147e-01,\n",
       "        1.81676475e+00])"
      ]
     },
     "execution_count": 579,
     "metadata": {},
     "output_type": "execute_result"
    }
   ],
   "source": [
    "# fit parameters lambda\n",
    "lambda_ = np.linalg.solve(A, f_)\n",
    "lambda_"
   ]
  },
  {
   "cell_type": "code",
   "execution_count": 580,
   "metadata": {},
   "outputs": [],
   "source": [
    "# defining approximations with coefficients lambda\n",
    "def approx(x):\n",
    "  # each function is only influenced by the preceding functions\n",
    "  r = 0\n",
    "  for be, le in zip(b_, lambda_):\n",
    "    r += le * max(0, x - be)\n",
    "  return r"
   ]
  },
  {
   "cell_type": "code",
   "execution_count": 581,
   "metadata": {},
   "outputs": [
    {
     "data": {
      "text/plain": [
       "[<matplotlib.lines.Line2D at 0x7f939dbc0f40>]"
      ]
     },
     "execution_count": 581,
     "metadata": {},
     "output_type": "execute_result"
    },
    {
     "data": {
      "image/png": "[encoded data removed]",
      "text/plain": [
       "<Figure size 640x480 with 1 Axes>"
      ]
     },
     "metadata": {},
     "output_type": "display_data"
    }
   ],
   "source": [
    "# plot the function and the approximation\n",
    "dom = np.linspace(-1,8,100)\n",
    "fig, ax = plt.subplots()\n",
    "ax.plot(dom, [f(d) for d in dom], 'b-')\n",
    "ax.plot(dom, [approx(d) for d in dom] , 'k-')"
   ]
  }
 ],
 "metadata": {
  "kernelspec": {
   "display_name": "deepl",
   "language": "python",
   "name": "python3"
  },
  "language_info": {
   "codemirror_mode": {
    "name": "ipython",
    "version": 3
   },
   "file_extension": ".py",
   "mimetype": "text/x-python",
   "name": "python",
   "nbconvert_exporter": "python",
   "pygments_lexer": "ipython3",
   "version": "3.9.19"
  }
 },
 "nbformat": 4,
 "nbformat_minor": 2
}
