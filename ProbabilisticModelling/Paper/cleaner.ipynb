{
 "cells": [
  {
   "cell_type": "code",
   "execution_count": 1,
   "metadata": {},
   "outputs": [],
   "source": [
    "import pandas as pd\n",
    "import numpy as np"
   ]
  },
  {
   "cell_type": "code",
   "execution_count": 2,
   "metadata": {},
   "outputs": [
    {
     "name": "stdout",
     "output_type": "stream",
     "text": [
      "(2922, 7)\n"
     ]
    },
    {
     "data": {
      "text/html": [
       "<div>\n",
       "<style scoped>\n",
       "    .dataframe tbody tr th:only-of-type {\n",
       "        vertical-align: middle;\n",
       "    }\n",
       "\n",
       "    .dataframe tbody tr th {\n",
       "        vertical-align: top;\n",
       "    }\n",
       "\n",
       "    .dataframe thead th {\n",
       "        text-align: right;\n",
       "    }\n",
       "</style>\n",
       "<table border=\"1\" class=\"dataframe\">\n",
       "  <thead>\n",
       "    <tr style=\"text-align: right;\">\n",
       "      <th></th>\n",
       "      <th>Date</th>\n",
       "      <th>Price</th>\n",
       "      <th>Open</th>\n",
       "      <th>High</th>\n",
       "      <th>Low</th>\n",
       "      <th>Vol.</th>\n",
       "      <th>Change %</th>\n",
       "    </tr>\n",
       "  </thead>\n",
       "  <tbody>\n",
       "    <tr>\n",
       "      <th>0</th>\n",
       "      <td>Dec 31, 2022</td>\n",
       "      <td>16,537.4</td>\n",
       "      <td>16,607.2</td>\n",
       "      <td>16,635.9</td>\n",
       "      <td>16,487.3</td>\n",
       "      <td>130.44K</td>\n",
       "      <td>-0.42%</td>\n",
       "    </tr>\n",
       "    <tr>\n",
       "      <th>1</th>\n",
       "      <td>Dec 30, 2022</td>\n",
       "      <td>16,607.2</td>\n",
       "      <td>16,636.4</td>\n",
       "      <td>16,644.4</td>\n",
       "      <td>16,360.0</td>\n",
       "      <td>192.76K</td>\n",
       "      <td>-0.18%</td>\n",
       "    </tr>\n",
       "    <tr>\n",
       "      <th>2</th>\n",
       "      <td>Dec 29, 2022</td>\n",
       "      <td>16,636.4</td>\n",
       "      <td>16,546.2</td>\n",
       "      <td>16,659.1</td>\n",
       "      <td>16,496.6</td>\n",
       "      <td>181.47K</td>\n",
       "      <td>0.55%</td>\n",
       "    </tr>\n",
       "    <tr>\n",
       "      <th>3</th>\n",
       "      <td>Dec 28, 2022</td>\n",
       "      <td>16,546.2</td>\n",
       "      <td>16,705.9</td>\n",
       "      <td>16,781.1</td>\n",
       "      <td>16,474.2</td>\n",
       "      <td>217.96K</td>\n",
       "      <td>-0.96%</td>\n",
       "    </tr>\n",
       "    <tr>\n",
       "      <th>4</th>\n",
       "      <td>Dec 27, 2022</td>\n",
       "      <td>16,706.1</td>\n",
       "      <td>16,918.2</td>\n",
       "      <td>16,964.0</td>\n",
       "      <td>16,610.1</td>\n",
       "      <td>192.18K</td>\n",
       "      <td>-1.25%</td>\n",
       "    </tr>\n",
       "  </tbody>\n",
       "</table>\n",
       "</div>"
      ],
      "text/plain": [
       "           Date     Price      Open      High       Low     Vol. Change %\n",
       "0  Dec 31, 2022  16,537.4  16,607.2  16,635.9  16,487.3  130.44K   -0.42%\n",
       "1  Dec 30, 2022  16,607.2  16,636.4  16,644.4  16,360.0  192.76K   -0.18%\n",
       "2  Dec 29, 2022  16,636.4  16,546.2  16,659.1  16,496.6  181.47K    0.55%\n",
       "3  Dec 28, 2022  16,546.2  16,705.9  16,781.1  16,474.2  217.96K   -0.96%\n",
       "4  Dec 27, 2022  16,706.1  16,918.2  16,964.0  16,610.1  192.18K   -1.25%"
      ]
     },
     "execution_count": 2,
     "metadata": {},
     "output_type": "execute_result"
    }
   ],
   "source": [
    "df = pd.read_csv('datasets/Bitcoin.csv')\n",
    "print(df.shape)\n",
    "df.head()"
   ]
  },
  {
   "cell_type": "code",
   "execution_count": 12,
   "metadata": {},
   "outputs": [
    {
     "name": "stdout",
     "output_type": "stream",
     "text": [
      "<class 'pandas.core.frame.DataFrame'>\n",
      "RangeIndex: 2922 entries, 0 to 2921\n",
      "Data columns (total 7 columns):\n",
      " #   Column    Non-Null Count  Dtype  \n",
      "---  ------    --------------  -----  \n",
      " 0   Date      2922 non-null   object \n",
      " 1   Price     2922 non-null   float64\n",
      " 2   Open      2922 non-null   object \n",
      " 3   High      2922 non-null   object \n",
      " 4   Low       2922 non-null   object \n",
      " 5   Vol.      2922 non-null   object \n",
      " 6   Change %  2922 non-null   object \n",
      "dtypes: float64(1), object(6)\n",
      "memory usage: 159.9+ KB\n"
     ]
    }
   ],
   "source": [
    "df.info()"
   ]
  },
  {
   "cell_type": "code",
   "execution_count": 8,
   "metadata": {},
   "outputs": [],
   "source": [
    "df['Price'] = df['Price'].apply(lambda x: x.replace(',', ''))\n",
    "df = df.astype({'Price': 'float'})"
   ]
  },
  {
   "cell_type": "code",
   "execution_count": 10,
   "metadata": {},
   "outputs": [],
   "source": [
    "df.to_csv('datasets/Bitcoin.csv', index=False)"
   ]
  }
 ],
 "metadata": {
  "kernelspec": {
   "display_name": "Python 3",
   "language": "python",
   "name": "python3"
  },
  "language_info": {
   "codemirror_mode": {
    "name": "ipython",
    "version": 3
   },
   "file_extension": ".py",
   "mimetype": "text/x-python",
   "name": "python",
   "nbconvert_exporter": "python",
   "pygments_lexer": "ipython3",
   "version": "3.10.6"
  },
  "orig_nbformat": 4
 },
 "nbformat": 4,
 "nbformat_minor": 2
}
