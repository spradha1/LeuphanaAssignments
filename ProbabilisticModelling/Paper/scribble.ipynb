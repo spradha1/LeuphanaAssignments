{
 "cells": [
  {
   "cell_type": "code",
   "execution_count": 1,
   "metadata": {},
   "outputs": [],
   "source": [
    "import pandas as pd\n",
    "import numpy as np\n",
    "import matplotlib.pyplot as plt\n",
    "import seaborn as sns\n",
    "\n",
    "sns.set_style('dark', {'axes.grid' : False})"
   ]
  },
  {
   "cell_type": "code",
   "execution_count": 2,
   "metadata": {},
   "outputs": [
    {
     "name": "stdout",
     "output_type": "stream",
     "text": [
      "(2015, 7)\n"
     ]
    },
    {
     "data": {
      "text/html": [
       "<div>\n",
       "<style scoped>\n",
       "    .dataframe tbody tr th:only-of-type {\n",
       "        vertical-align: middle;\n",
       "    }\n",
       "\n",
       "    .dataframe tbody tr th {\n",
       "        vertical-align: top;\n",
       "    }\n",
       "\n",
       "    .dataframe thead th {\n",
       "        text-align: right;\n",
       "    }\n",
       "</style>\n",
       "<table border=\"1\" class=\"dataframe\">\n",
       "  <thead>\n",
       "    <tr style=\"text-align: right;\">\n",
       "      <th></th>\n",
       "      <th>Date</th>\n",
       "      <th>Price</th>\n",
       "      <th>Open</th>\n",
       "      <th>High</th>\n",
       "      <th>Low</th>\n",
       "      <th>Vol.</th>\n",
       "      <th>Change %</th>\n",
       "    </tr>\n",
       "  </thead>\n",
       "  <tbody>\n",
       "    <tr>\n",
       "      <th>0</th>\n",
       "      <td>09/07/2010</td>\n",
       "      <td>1.37</td>\n",
       "      <td>1.37</td>\n",
       "      <td>1.40</td>\n",
       "      <td>1.37</td>\n",
       "      <td>3.65M</td>\n",
       "      <td>-2.14%</td>\n",
       "    </tr>\n",
       "    <tr>\n",
       "      <th>1</th>\n",
       "      <td>09/08/2010</td>\n",
       "      <td>1.39</td>\n",
       "      <td>1.38</td>\n",
       "      <td>1.40</td>\n",
       "      <td>1.37</td>\n",
       "      <td>4.33M</td>\n",
       "      <td>1.46%</td>\n",
       "    </tr>\n",
       "    <tr>\n",
       "      <th>2</th>\n",
       "      <td>09/09/2010</td>\n",
       "      <td>1.38</td>\n",
       "      <td>1.40</td>\n",
       "      <td>1.40</td>\n",
       "      <td>1.38</td>\n",
       "      <td>5.64M</td>\n",
       "      <td>-0.72%</td>\n",
       "    </tr>\n",
       "    <tr>\n",
       "      <th>3</th>\n",
       "      <td>09/10/2010</td>\n",
       "      <td>1.34</td>\n",
       "      <td>1.38</td>\n",
       "      <td>1.40</td>\n",
       "      <td>1.32</td>\n",
       "      <td>5.80M</td>\n",
       "      <td>-2.90%</td>\n",
       "    </tr>\n",
       "    <tr>\n",
       "      <th>4</th>\n",
       "      <td>09/13/2010</td>\n",
       "      <td>1.38</td>\n",
       "      <td>1.39</td>\n",
       "      <td>1.39</td>\n",
       "      <td>1.37</td>\n",
       "      <td>5.41M</td>\n",
       "      <td>2.99%</td>\n",
       "    </tr>\n",
       "  </tbody>\n",
       "</table>\n",
       "</div>"
      ],
      "text/plain": [
       "         Date  Price  Open  High   Low   Vol. Change %\n",
       "0  09/07/2010   1.37  1.37  1.40  1.37  3.65M   -2.14%\n",
       "1  09/08/2010   1.39  1.38  1.40  1.37  4.33M    1.46%\n",
       "2  09/09/2010   1.38  1.40  1.40  1.38  5.64M   -0.72%\n",
       "3  09/10/2010   1.34  1.38  1.40  1.32  5.80M   -2.90%\n",
       "4  09/13/2010   1.38  1.39  1.39  1.37  5.41M    2.99%"
      ]
     },
     "execution_count": 2,
     "metadata": {},
     "output_type": "execute_result"
    }
   ],
   "source": [
    "df = pd.read_csv('datasets/TSLA.csv')\n",
    "print(df.shape)\n",
    "df.head()"
   ]
  },
  {
   "cell_type": "code",
   "execution_count": 3,
   "metadata": {},
   "outputs": [],
   "source": [
    "df['Price'] = df['Price'].apply(lambda x: x.replace(',', ''))\n",
    "df = df.astype({'Price': 'float'})"
   ]
  },
  {
   "cell_type": "code",
   "execution_count": 3,
   "metadata": {},
   "outputs": [
    {
     "name": "stdout",
     "output_type": "stream",
     "text": [
      "<class 'pandas.core.frame.DataFrame'>\n",
      "RangeIndex: 2015 entries, 0 to 2014\n",
      "Data columns (total 7 columns):\n",
      " #   Column    Non-Null Count  Dtype  \n",
      "---  ------    --------------  -----  \n",
      " 0   Date      2015 non-null   object \n",
      " 1   Price     2015 non-null   float64\n",
      " 2   Open      2015 non-null   float64\n",
      " 3   High      2015 non-null   float64\n",
      " 4   Low       2015 non-null   float64\n",
      " 5   Vol.      2015 non-null   object \n",
      " 6   Change %  2015 non-null   object \n",
      "dtypes: float64(4), object(3)\n",
      "memory usage: 110.3+ KB\n"
     ]
    },
    {
     "data": {
      "text/plain": [
       "array([ 1.37,  1.39,  1.38, ..., 20.11, 19.26, 18.72])"
      ]
     },
     "execution_count": 3,
     "metadata": {},
     "output_type": "execute_result"
    }
   ],
   "source": [
    "df.info()\n",
    "df.Price.unique()"
   ]
  },
  {
   "cell_type": "code",
   "execution_count": 5,
   "metadata": {},
   "outputs": [],
   "source": [
    "df.to_csv('datasets/ETH.csv', index=False)"
   ]
  }
 ],
 "metadata": {
  "kernelspec": {
   "display_name": "Python 3",
   "language": "python",
   "name": "python3"
  },
  "language_info": {
   "codemirror_mode": {
    "name": "ipython",
    "version": 3
   },
   "file_extension": ".py",
   "mimetype": "text/x-python",
   "name": "python",
   "nbconvert_exporter": "python",
   "pygments_lexer": "ipython3",
   "version": "3.10.6"
  },
  "orig_nbformat": 4
 },
 "nbformat": 4,
 "nbformat_minor": 2
}
