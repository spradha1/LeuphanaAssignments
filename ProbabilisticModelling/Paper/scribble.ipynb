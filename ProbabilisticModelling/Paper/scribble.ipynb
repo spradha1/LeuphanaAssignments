{
 "cells": [
  {
   "cell_type": "code",
   "execution_count": 8,
   "metadata": {},
   "outputs": [],
   "source": [
    "import pandas as pd\n",
    "import numpy as np\n",
    "import matplotlib.pyplot as plt\n",
    "import seaborn as sns\n",
    "\n",
    "sns.set_style('dark', {'axes.grid' : False})"
   ]
  },
  {
   "cell_type": "code",
   "execution_count": 9,
   "metadata": {},
   "outputs": [
    {
     "name": "stdout",
     "output_type": "stream",
     "text": [
      "(2036, 7)\n"
     ]
    },
    {
     "data": {
      "text/html": [
       "<div>\n",
       "<style scoped>\n",
       "    .dataframe tbody tr th:only-of-type {\n",
       "        vertical-align: middle;\n",
       "    }\n",
       "\n",
       "    .dataframe tbody tr th {\n",
       "        vertical-align: top;\n",
       "    }\n",
       "\n",
       "    .dataframe thead th {\n",
       "        text-align: right;\n",
       "    }\n",
       "</style>\n",
       "<table border=\"1\" class=\"dataframe\">\n",
       "  <thead>\n",
       "    <tr style=\"text-align: right;\">\n",
       "      <th></th>\n",
       "      <th>Date</th>\n",
       "      <th>Price</th>\n",
       "      <th>Open</th>\n",
       "      <th>High</th>\n",
       "      <th>Low</th>\n",
       "      <th>Vol.</th>\n",
       "      <th>Change %</th>\n",
       "    </tr>\n",
       "  </thead>\n",
       "  <tbody>\n",
       "    <tr>\n",
       "      <th>0</th>\n",
       "      <td>10/05/2018</td>\n",
       "      <td>17.46</td>\n",
       "      <td>18.31</td>\n",
       "      <td>18.33</td>\n",
       "      <td>17.33</td>\n",
       "      <td>269.17M</td>\n",
       "      <td>-7.08%</td>\n",
       "    </tr>\n",
       "    <tr>\n",
       "      <th>1</th>\n",
       "      <td>10/04/2018</td>\n",
       "      <td>18.79</td>\n",
       "      <td>19.60</td>\n",
       "      <td>19.60</td>\n",
       "      <td>18.51</td>\n",
       "      <td>147.21M</td>\n",
       "      <td>-4.38%</td>\n",
       "    </tr>\n",
       "    <tr>\n",
       "      <th>2</th>\n",
       "      <td>10/03/2018</td>\n",
       "      <td>19.65</td>\n",
       "      <td>20.22</td>\n",
       "      <td>20.31</td>\n",
       "      <td>19.44</td>\n",
       "      <td>119.92M</td>\n",
       "      <td>-2.09%</td>\n",
       "    </tr>\n",
       "    <tr>\n",
       "      <th>3</th>\n",
       "      <td>10/02/2018</td>\n",
       "      <td>20.07</td>\n",
       "      <td>20.93</td>\n",
       "      <td>21.12</td>\n",
       "      <td>19.94</td>\n",
       "      <td>176.15M</td>\n",
       "      <td>-3.09%</td>\n",
       "    </tr>\n",
       "    <tr>\n",
       "      <th>4</th>\n",
       "      <td>10/01/2018</td>\n",
       "      <td>20.71</td>\n",
       "      <td>20.38</td>\n",
       "      <td>20.76</td>\n",
       "      <td>20.07</td>\n",
       "      <td>326.66M</td>\n",
       "      <td>17.34%</td>\n",
       "    </tr>\n",
       "  </tbody>\n",
       "</table>\n",
       "</div>"
      ],
      "text/plain": [
       "         Date  Price   Open   High    Low     Vol. Change %\n",
       "0  10/05/2018  17.46  18.31  18.33  17.33  269.17M   -7.08%\n",
       "1  10/04/2018  18.79  19.60  19.60  18.51  147.21M   -4.38%\n",
       "2  10/03/2018  19.65  20.22  20.31  19.44  119.92M   -2.09%\n",
       "3  10/02/2018  20.07  20.93  21.12  19.94  176.15M   -3.09%\n",
       "4  10/01/2018  20.71  20.38  20.76  20.07  326.66M   17.34%"
      ]
     },
     "execution_count": 9,
     "metadata": {},
     "output_type": "execute_result"
    }
   ],
   "source": [
    "df = pd.read_csv('datasets/TSLA.csv')\n",
    "print(df.shape)\n",
    "df.head()"
   ]
  },
  {
   "cell_type": "code",
   "execution_count": 14,
   "metadata": {},
   "outputs": [],
   "source": [
    "if df['Price'].dtype == 'object':\n",
    "  df['Price'] = df['Price'].apply(lambda x: x.replace(',', ''))\n",
    "  df = df.astype({'Price': 'float'})"
   ]
  },
  {
   "cell_type": "code",
   "execution_count": 11,
   "metadata": {},
   "outputs": [
    {
     "name": "stdout",
     "output_type": "stream",
     "text": [
      "<class 'pandas.core.frame.DataFrame'>\n",
      "RangeIndex: 2036 entries, 0 to 2035\n",
      "Data columns (total 7 columns):\n",
      " #   Column    Non-Null Count  Dtype  \n",
      "---  ------    --------------  -----  \n",
      " 0   Date      2036 non-null   object \n",
      " 1   Price     2036 non-null   float64\n",
      " 2   Open      2036 non-null   float64\n",
      " 3   High      2036 non-null   float64\n",
      " 4   Low       2036 non-null   float64\n",
      " 5   Vol.      2036 non-null   object \n",
      " 6   Change %  2036 non-null   object \n",
      "dtypes: float64(4), object(3)\n",
      "memory usage: 111.5+ KB\n"
     ]
    },
    {
     "data": {
      "text/plain": [
       "array([17.46, 18.79, 19.65, ...,  1.47,  1.3 ,  1.32])"
      ]
     },
     "execution_count": 11,
     "metadata": {},
     "output_type": "execute_result"
    }
   ],
   "source": [
    "df.info()\n",
    "df.Price.unique()"
   ]
  },
  {
   "cell_type": "code",
   "execution_count": 12,
   "metadata": {},
   "outputs": [],
   "source": [
    "df.to_csv('datasets/TSLA.csv', index=False)"
   ]
  }
 ],
 "metadata": {
  "kernelspec": {
   "display_name": "Python 3",
   "language": "python",
   "name": "python3"
  },
  "language_info": {
   "codemirror_mode": {
    "name": "ipython",
    "version": 3
   },
   "file_extension": ".py",
   "mimetype": "text/x-python",
   "name": "python",
   "nbconvert_exporter": "python",
   "pygments_lexer": "ipython3",
   "version": "3.10.6"
  },
  "orig_nbformat": 4
 },
 "nbformat": 4,
 "nbformat_minor": 2
}
