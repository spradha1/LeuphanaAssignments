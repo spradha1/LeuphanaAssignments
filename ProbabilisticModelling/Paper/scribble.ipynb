{
 "cells": [
  {
   "cell_type": "code",
   "execution_count": 1,
   "metadata": {},
   "outputs": [],
   "source": [
    "import pandas as pd\n",
    "import numpy as np\n",
    "import matplotlib.pyplot as plt\n",
    "import seaborn as sns\n",
    "\n",
    "sns.set_style('dark', {'axes.grid' : False})"
   ]
  },
  {
   "cell_type": "code",
   "execution_count": 2,
   "metadata": {},
   "outputs": [
    {
     "name": "stdout",
     "output_type": "stream",
     "text": [
      "(1456, 7)\n"
     ]
    },
    {
     "data": {
      "text/html": [
       "<div>\n",
       "<style scoped>\n",
       "    .dataframe tbody tr th:only-of-type {\n",
       "        vertical-align: middle;\n",
       "    }\n",
       "\n",
       "    .dataframe tbody tr th {\n",
       "        vertical-align: top;\n",
       "    }\n",
       "\n",
       "    .dataframe thead th {\n",
       "        text-align: right;\n",
       "    }\n",
       "</style>\n",
       "<table border=\"1\" class=\"dataframe\">\n",
       "  <thead>\n",
       "    <tr style=\"text-align: right;\">\n",
       "      <th></th>\n",
       "      <th>Date</th>\n",
       "      <th>Price</th>\n",
       "      <th>Open</th>\n",
       "      <th>High</th>\n",
       "      <th>Low</th>\n",
       "      <th>Vol.</th>\n",
       "      <th>Change %</th>\n",
       "    </tr>\n",
       "  </thead>\n",
       "  <tbody>\n",
       "    <tr>\n",
       "      <th>0</th>\n",
       "      <td>01/01/2019</td>\n",
       "      <td>139.15</td>\n",
       "      <td>131.29</td>\n",
       "      <td>139.78</td>\n",
       "      <td>130.06</td>\n",
       "      <td>245.68K</td>\n",
       "      <td>5.98%</td>\n",
       "    </tr>\n",
       "    <tr>\n",
       "      <th>1</th>\n",
       "      <td>01/02/2019</td>\n",
       "      <td>152.05</td>\n",
       "      <td>139.11</td>\n",
       "      <td>155.06</td>\n",
       "      <td>137.94</td>\n",
       "      <td>302.33K</td>\n",
       "      <td>9.28%</td>\n",
       "    </tr>\n",
       "    <tr>\n",
       "      <th>2</th>\n",
       "      <td>01/03/2019</td>\n",
       "      <td>146.04</td>\n",
       "      <td>152.05</td>\n",
       "      <td>153.49</td>\n",
       "      <td>143.48</td>\n",
       "      <td>226.68K</td>\n",
       "      <td>-3.96%</td>\n",
       "    </tr>\n",
       "    <tr>\n",
       "      <th>3</th>\n",
       "      <td>01/04/2019</td>\n",
       "      <td>152.10</td>\n",
       "      <td>146.17</td>\n",
       "      <td>154.57</td>\n",
       "      <td>144.31</td>\n",
       "      <td>249.08K</td>\n",
       "      <td>4.15%</td>\n",
       "    </tr>\n",
       "    <tr>\n",
       "      <th>4</th>\n",
       "      <td>01/05/2019</td>\n",
       "      <td>152.85</td>\n",
       "      <td>152.05</td>\n",
       "      <td>159.00</td>\n",
       "      <td>151.98</td>\n",
       "      <td>274.10K</td>\n",
       "      <td>0.50%</td>\n",
       "    </tr>\n",
       "  </tbody>\n",
       "</table>\n",
       "</div>"
      ],
      "text/plain": [
       "         Date   Price    Open    High     Low     Vol. Change %\n",
       "0  01/01/2019  139.15  131.29  139.78  130.06  245.68K    5.98%\n",
       "1  01/02/2019  152.05  139.11  155.06  137.94  302.33K    9.28%\n",
       "2  01/03/2019  146.04  152.05  153.49  143.48  226.68K   -3.96%\n",
       "3  01/04/2019  152.10  146.17  154.57  144.31  249.08K    4.15%\n",
       "4  01/05/2019  152.85  152.05  159.00  151.98  274.10K    0.50%"
      ]
     },
     "execution_count": 2,
     "metadata": {},
     "output_type": "execute_result"
    }
   ],
   "source": [
    "df = pd.read_csv('datasets/ETH.csv')\n",
    "print(df.shape)\n",
    "df.head()"
   ]
  },
  {
   "cell_type": "code",
   "execution_count": 3,
   "metadata": {},
   "outputs": [],
   "source": [
    "df['Price'] = df['Price'].apply(lambda x: x.replace(',', ''))\n",
    "df = df.astype({'Price': 'float'})"
   ]
  },
  {
   "cell_type": "code",
   "execution_count": 6,
   "metadata": {},
   "outputs": [
    {
     "name": "stdout",
     "output_type": "stream",
     "text": [
      "<class 'pandas.core.frame.DataFrame'>\n",
      "RangeIndex: 1456 entries, 0 to 1455\n",
      "Data columns (total 7 columns):\n",
      " #   Column    Non-Null Count  Dtype  \n",
      "---  ------    --------------  -----  \n",
      " 0   Date      1456 non-null   object \n",
      " 1   Price     1456 non-null   float64\n",
      " 2   Open      1456 non-null   object \n",
      " 3   High      1456 non-null   object \n",
      " 4   Low       1456 non-null   object \n",
      " 5   Vol.      1455 non-null   object \n",
      " 6   Change %  1456 non-null   object \n",
      "dtypes: float64(1), object(6)\n",
      "memory usage: 79.8+ KB\n"
     ]
    },
    {
     "data": {
      "text/plain": [
       "array([ 139.15,  152.05,  146.04, ..., 1200.8 , 1199.99, 1195.65])"
      ]
     },
     "execution_count": 6,
     "metadata": {},
     "output_type": "execute_result"
    }
   ],
   "source": [
    "df.info()\n",
    "df.Price.unique()"
   ]
  },
  {
   "cell_type": "code",
   "execution_count": 5,
   "metadata": {},
   "outputs": [],
   "source": [
    "df.to_csv('datasets/ETH.csv', index=False)"
   ]
  }
 ],
 "metadata": {
  "kernelspec": {
   "display_name": "Python 3",
   "language": "python",
   "name": "python3"
  },
  "language_info": {
   "codemirror_mode": {
    "name": "ipython",
    "version": 3
   },
   "file_extension": ".py",
   "mimetype": "text/x-python",
   "name": "python",
   "nbconvert_exporter": "python",
   "pygments_lexer": "ipython3",
   "version": "3.10.6"
  },
  "orig_nbformat": 4
 },
 "nbformat": 4,
 "nbformat_minor": 2
}
